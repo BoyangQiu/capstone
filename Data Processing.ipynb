{
 "cells": [
  {
   "cell_type": "code",
   "execution_count": 2,
   "metadata": {},
   "outputs": [],
   "source": [
    "import pandas as pd\n",
    "import numpy as np\n",
    "import matplotlib.pyplot as plt"
   ]
  },
  {
   "cell_type": "code",
   "execution_count": 3,
   "metadata": {},
   "outputs": [],
   "source": [
    "df = pd.read_csv('Master_df.csv', index_col = 0)"
   ]
  },
  {
   "cell_type": "code",
   "execution_count": 4,
   "metadata": {},
   "outputs": [],
   "source": [
    "df.drop(['SV'], axis=1, inplace=True)"
   ]
  },
  {
   "cell_type": "code",
   "execution_count": 6,
   "metadata": {},
   "outputs": [],
   "source": [
    "df.rename({'Stamina/Consistency':'Stamina'}, axis=1, inplace= True)\n",
    "df.to_csv('Master_df.csv')"
   ]
  },
  {
   "cell_type": "code",
   "execution_count": 5,
   "metadata": {},
   "outputs": [
    {
     "data": {
      "text/plain": [
       "595"
      ]
     },
     "execution_count": 5,
     "metadata": {},
     "output_type": "execute_result"
    }
   ],
   "source": [
    "# 595 unique pitchers\n",
    "len(pd.unique(df['Name']))"
   ]
  },
  {
   "cell_type": "code",
   "execution_count": 7,
   "metadata": {},
   "outputs": [
    {
     "data": {
      "text/html": [
       "<div>\n",
       "<style scoped>\n",
       "    .dataframe tbody tr th:only-of-type {\n",
       "        vertical-align: middle;\n",
       "    }\n",
       "\n",
       "    .dataframe tbody tr th {\n",
       "        vertical-align: top;\n",
       "    }\n",
       "\n",
       "    .dataframe thead th {\n",
       "        text-align: right;\n",
       "    }\n",
       "</style>\n",
       "<table border=\"1\" class=\"dataframe\">\n",
       "  <thead>\n",
       "    <tr style=\"text-align: right;\">\n",
       "      <th></th>\n",
       "      <th>Pitch Diversity</th>\n",
       "      <th>Strikeouts</th>\n",
       "      <th>Control</th>\n",
       "      <th>Stamina</th>\n",
       "      <th>BA Against</th>\n",
       "      <th>Velocity</th>\n",
       "      <th>Ground Balls</th>\n",
       "      <th>performance</th>\n",
       "    </tr>\n",
       "  </thead>\n",
       "  <tbody>\n",
       "    <tr>\n",
       "      <td>0</td>\n",
       "      <td>14.500000</td>\n",
       "      <td>91.000000</td>\n",
       "      <td>27.750000</td>\n",
       "      <td>96.250000</td>\n",
       "      <td>88.500000</td>\n",
       "      <td>100.000000</td>\n",
       "      <td>57.500000</td>\n",
       "      <td>475.500000</td>\n",
       "    </tr>\n",
       "    <tr>\n",
       "      <td>1</td>\n",
       "      <td>8.755760</td>\n",
       "      <td>90.783410</td>\n",
       "      <td>3.686636</td>\n",
       "      <td>51.843318</td>\n",
       "      <td>86.635945</td>\n",
       "      <td>97.004608</td>\n",
       "      <td>88.940092</td>\n",
       "      <td>427.649770</td>\n",
       "    </tr>\n",
       "    <tr>\n",
       "      <td>2</td>\n",
       "      <td>9.734513</td>\n",
       "      <td>89.823009</td>\n",
       "      <td>63.716814</td>\n",
       "      <td>78.982301</td>\n",
       "      <td>61.725664</td>\n",
       "      <td>100.000000</td>\n",
       "      <td>80.309735</td>\n",
       "      <td>484.292035</td>\n",
       "    </tr>\n",
       "    <tr>\n",
       "      <td>3</td>\n",
       "      <td>20.614035</td>\n",
       "      <td>92.543860</td>\n",
       "      <td>37.280702</td>\n",
       "      <td>86.403509</td>\n",
       "      <td>40.789474</td>\n",
       "      <td>99.122807</td>\n",
       "      <td>94.736842</td>\n",
       "      <td>471.491228</td>\n",
       "    </tr>\n",
       "    <tr>\n",
       "      <td>4</td>\n",
       "      <td>7.203390</td>\n",
       "      <td>82.415254</td>\n",
       "      <td>73.305085</td>\n",
       "      <td>87.288136</td>\n",
       "      <td>33.686441</td>\n",
       "      <td>98.728814</td>\n",
       "      <td>85.381356</td>\n",
       "      <td>468.008475</td>\n",
       "    </tr>\n",
       "    <tr>\n",
       "      <td>...</td>\n",
       "      <td>...</td>\n",
       "      <td>...</td>\n",
       "      <td>...</td>\n",
       "      <td>...</td>\n",
       "      <td>...</td>\n",
       "      <td>...</td>\n",
       "      <td>...</td>\n",
       "      <td>...</td>\n",
       "    </tr>\n",
       "    <tr>\n",
       "      <td>3949</td>\n",
       "      <td>15.966387</td>\n",
       "      <td>64.285714</td>\n",
       "      <td>14.705882</td>\n",
       "      <td>56.722689</td>\n",
       "      <td>71.218487</td>\n",
       "      <td>92.226891</td>\n",
       "      <td>46.428571</td>\n",
       "      <td>361.554622</td>\n",
       "    </tr>\n",
       "    <tr>\n",
       "      <td>3950</td>\n",
       "      <td>50.643777</td>\n",
       "      <td>86.695279</td>\n",
       "      <td>18.884120</td>\n",
       "      <td>47.854077</td>\n",
       "      <td>38.626609</td>\n",
       "      <td>96.566524</td>\n",
       "      <td>91.845494</td>\n",
       "      <td>431.115880</td>\n",
       "    </tr>\n",
       "    <tr>\n",
       "      <td>3951</td>\n",
       "      <td>37.313433</td>\n",
       "      <td>67.164179</td>\n",
       "      <td>14.925373</td>\n",
       "      <td>27.114428</td>\n",
       "      <td>16.666667</td>\n",
       "      <td>87.810945</td>\n",
       "      <td>71.890547</td>\n",
       "      <td>322.885572</td>\n",
       "    </tr>\n",
       "    <tr>\n",
       "      <td>3952</td>\n",
       "      <td>68.208092</td>\n",
       "      <td>67.052023</td>\n",
       "      <td>59.537572</td>\n",
       "      <td>96.242775</td>\n",
       "      <td>69.942197</td>\n",
       "      <td>95.086705</td>\n",
       "      <td>55.491329</td>\n",
       "      <td>511.560694</td>\n",
       "    </tr>\n",
       "    <tr>\n",
       "      <td>3953</td>\n",
       "      <td>56.962025</td>\n",
       "      <td>59.493671</td>\n",
       "      <td>74.683544</td>\n",
       "      <td>94.303797</td>\n",
       "      <td>34.810127</td>\n",
       "      <td>96.835443</td>\n",
       "      <td>58.227848</td>\n",
       "      <td>475.316456</td>\n",
       "    </tr>\n",
       "  </tbody>\n",
       "</table>\n",
       "<p>3954 rows × 8 columns</p>\n",
       "</div>"
      ],
      "text/plain": [
       "      Pitch Diversity  Strikeouts    Control    Stamina  BA Against  \\\n",
       "0           14.500000   91.000000  27.750000  96.250000   88.500000   \n",
       "1            8.755760   90.783410   3.686636  51.843318   86.635945   \n",
       "2            9.734513   89.823009  63.716814  78.982301   61.725664   \n",
       "3           20.614035   92.543860  37.280702  86.403509   40.789474   \n",
       "4            7.203390   82.415254  73.305085  87.288136   33.686441   \n",
       "...               ...         ...        ...        ...         ...   \n",
       "3949        15.966387   64.285714  14.705882  56.722689   71.218487   \n",
       "3950        50.643777   86.695279  18.884120  47.854077   38.626609   \n",
       "3951        37.313433   67.164179  14.925373  27.114428   16.666667   \n",
       "3952        68.208092   67.052023  59.537572  96.242775   69.942197   \n",
       "3953        56.962025   59.493671  74.683544  94.303797   34.810127   \n",
       "\n",
       "        Velocity  Ground Balls  performance  \n",
       "0     100.000000     57.500000   475.500000  \n",
       "1      97.004608     88.940092   427.649770  \n",
       "2     100.000000     80.309735   484.292035  \n",
       "3      99.122807     94.736842   471.491228  \n",
       "4      98.728814     85.381356   468.008475  \n",
       "...          ...           ...          ...  \n",
       "3949   92.226891     46.428571   361.554622  \n",
       "3950   96.566524     91.845494   431.115880  \n",
       "3951   87.810945     71.890547   322.885572  \n",
       "3952   95.086705     55.491329   511.560694  \n",
       "3953   96.835443     58.227848   475.316456  \n",
       "\n",
       "[3954 rows x 8 columns]"
      ]
     },
     "execution_count": 7,
     "metadata": {},
     "output_type": "execute_result"
    }
   ],
   "source": [
    "metrics = df.loc[:,'Pitch Diversity':'Ground Balls']\n",
    "metrics.drop(['Shannon Diversity'], axis=1, inplace=True)\n",
    "metrics['performance'] = metrics.sum(axis=1)\n",
    "metrics"
   ]
  },
  {
   "cell_type": "code",
   "execution_count": 8,
   "metadata": {},
   "outputs": [],
   "source": [
    "df['performance'] = metrics['performance']"
   ]
  },
  {
   "cell_type": "code",
   "execution_count": 10,
   "metadata": {},
   "outputs": [],
   "source": [
    "df.to_csv('Master_df.csv')"
   ]
  },
  {
   "cell_type": "code",
   "execution_count": 42,
   "metadata": {
    "scrolled": false
   },
   "outputs": [
    {
     "name": "stderr",
     "output_type": "stream",
     "text": [
      "C:\\ProgramData\\Anaconda\\lib\\site-packages\\ipykernel_launcher.py:3: SettingWithCopyWarning: \n",
      "A value is trying to be set on a copy of a slice from a DataFrame.\n",
      "Try using .loc[row_indexer,col_indexer] = value instead\n",
      "\n",
      "See the caveats in the documentation: http://pandas.pydata.org/pandas-docs/stable/user_guide/indexing.html#returning-a-view-versus-a-copy\n",
      "  This is separate from the ipykernel package so we can avoid doing imports until\n"
     ]
    },
    {
     "data": {
      "text/plain": [
       "([<matplotlib.axis.XTick at 0x2510901d948>,\n",
       "  <matplotlib.axis.XTick at 0x2510901d048>,\n",
       "  <matplotlib.axis.XTick at 0x2510901cbc8>,\n",
       "  <matplotlib.axis.XTick at 0x25108e57448>,\n",
       "  <matplotlib.axis.XTick at 0x25108fff9c8>,\n",
       "  <matplotlib.axis.XTick at 0x25108f87c08>,\n",
       "  <matplotlib.axis.XTick at 0x2510901f288>,\n",
       "  <matplotlib.axis.XTick at 0x2510901fd08>,\n",
       "  <matplotlib.axis.XTick at 0x25109037888>,\n",
       "  <matplotlib.axis.XTick at 0x2510903b408>,\n",
       "  <matplotlib.axis.XTick at 0x2510903bdc8>,\n",
       "  <matplotlib.axis.XTick at 0x2510903ea88>],\n",
       " <a list of 12 Text xticklabel objects>)"
      ]
     },
     "execution_count": 42,
     "metadata": {},
     "output_type": "execute_result"
    },
    {
     "data": {
      "image/png": "[encoded data removed]",
      "text/plain": [
       "<Figure size 432x288 with 1 Axes>"
      ]
     },
     "metadata": {
      "needs_background": "light"
     },
     "output_type": "display_data"
    }
   ],
   "source": [
    "kershaw = df[df['Name'] == 'Clayton Kershaw']\n",
    "kershaw.reset_index(drop = True, inplace = True)\n",
    "kershaw['delta'] = kershaw['performance'].pct_change()\n",
    "plt.plot(kershaw['Age'], kershaw['performance'])\n",
    "plt.xticks(np.arange(kershaw['Age'].min(), kershaw['Age'].max()+1,1))"
   ]
  },
  {
   "cell_type": "code",
   "execution_count": 41,
   "metadata": {},
   "outputs": [
    {
     "data": {
      "text/plain": [
       "([<matplotlib.axis.XTick at 0x25108fa8888>,\n",
       "  <matplotlib.axis.XTick at 0x25108fa5e48>,\n",
       "  <matplotlib.axis.XTick at 0x25108fa5348>,\n",
       "  <matplotlib.axis.XTick at 0x25108fc9b88>,\n",
       "  <matplotlib.axis.XTick at 0x25108fd1248>,\n",
       "  <matplotlib.axis.XTick at 0x25108fd1b48>,\n",
       "  <matplotlib.axis.XTick at 0x25108fd4508>,\n",
       "  <matplotlib.axis.XTick at 0x25108fda108>,\n",
       "  <matplotlib.axis.XTick at 0x25108fdab08>,\n",
       "  <matplotlib.axis.XTick at 0x25108fd1dc8>,\n",
       "  <matplotlib.axis.XTick at 0x25108fde448>,\n",
       "  <matplotlib.axis.XTick at 0x25108fdec08>],\n",
       " <a list of 12 Text xticklabel objects>)"
      ]
     },
     "execution_count": 41,
     "metadata": {},
     "output_type": "execute_result"
    },
    {
     "data": {
      "image/png": "[encoded data removed]",
      "text/plain": [
       "<Figure size 432x288 with 1 Axes>"
      ]
     },
     "metadata": {
      "needs_background": "light"
     },
     "output_type": "display_data"
    }
   ],
   "source": [
    "plt.plot(kershaw['Age'], kershaw['WAR'])\n",
    "plt.xticks(np.arange(kershaw['Age'].min(), kershaw['Age'].max()+1,1))"
   ]
  },
  {
   "cell_type": "code",
   "execution_count": 27,
   "metadata": {},
   "outputs": [
    {
     "data": {
      "text/plain": [
       "0          NaN\n",
       "1     0.176089\n",
       "2     0.005548\n",
       "3     0.288450\n",
       "4     0.014271\n",
       "5     0.017820\n",
       "6     0.089041\n",
       "7    -0.012588\n",
       "8    -0.000889\n",
       "9    -0.020006\n",
       "10   -0.154261\n",
       "11    0.012007\n",
       "Name: delta, dtype: float64"
      ]
     },
     "execution_count": 27,
     "metadata": {},
     "output_type": "execute_result"
    }
   ],
   "source": [
    "kershaw['delta']"
   ]
  },
  {
   "cell_type": "code",
   "execution_count": 39,
   "metadata": {},
   "outputs": [
    {
     "data": {
      "text/plain": [
       "[26, 27, 28, 29]"
      ]
     },
     "execution_count": 39,
     "metadata": {},
     "output_type": "execute_result"
    }
   ],
   "source": [
    "prime = []\n",
    "for i in range(len(kershaw)):\n",
    "    if kershaw.loc[i, 'performance'] == kershaw['performance'].max():\n",
    "        prime.append(kershaw.loc[i, 'Age'])\n",
    "        for j in range(1, len(kershaw) - i):\n",
    "            if kershaw.loc[i+j, 'delta'] > -0.1:\n",
    "                prime.append(kershaw.loc[i+j, 'Age'])\n",
    "            elif kershaw.loc[i+j, 'delta'] <= -0.1:\n",
    "                break\n",
    "\n",
    "prime"
   ]
  },
  {
   "cell_type": "code",
   "execution_count": 29,
   "metadata": {},
   "outputs": [],
   "source": [
    "def prime(name):\n",
    "    kershaw = df[df['Name'] == name]\n",
    "    kershaw.reset_index(drop = True, inplace = True)\n",
    "    kershaw['delta'] = kershaw['performance'].pct_change()\n",
    "\n",
    "    years = []\n",
    "    for i in range(len(kershaw)):\n",
    "        if kershaw.loc[i, 'performance'] == kershaw['performance'].max():\n",
    "            years.append(kershaw.loc[i, 'Age'])\n",
    "            for j in range(1, len(kershaw) - i):\n",
    "                if kershaw.loc[i+j, 'delta'] > -0.1:\n",
    "                    years.append(kershaw.loc[i+j, 'Age'])\n",
    "                elif kershaw.loc[i+j, 'delta'] <= -0.1:\n",
    "                    break\n",
    "    s = 'Prime Years: '\n",
    "    for yr in years:\n",
    "        s = s + str(yr) + ', '\n",
    "    s = s.rstrip(', ')\n",
    "    return s"
   ]
  },
  {
   "cell_type": "code",
   "execution_count": 30,
   "metadata": {},
   "outputs": [
    {
     "name": "stderr",
     "output_type": "stream",
     "text": [
      "C:\\ProgramData\\Anaconda\\lib\\site-packages\\ipykernel_launcher.py:4: SettingWithCopyWarning: \n",
      "A value is trying to be set on a copy of a slice from a DataFrame.\n",
      "Try using .loc[row_indexer,col_indexer] = value instead\n",
      "\n",
      "See the caveats in the documentation: http://pandas.pydata.org/pandas-docs/stable/user_guide/indexing.html#returning-a-view-versus-a-copy\n",
      "  after removing the cwd from sys.path.\n"
     ]
    }
   ],
   "source": [
    "yrs = prime('Clayton Kershaw')"
   ]
  },
  {
   "cell_type": "code",
   "execution_count": 31,
   "metadata": {},
   "outputs": [
    {
     "data": {
      "text/plain": [
       "'Prime Years: 26, 27, 28, 29'"
      ]
     },
     "execution_count": 31,
     "metadata": {},
     "output_type": "execute_result"
    }
   ],
   "source": [
    "yrs"
   ]
  },
  {
   "cell_type": "code",
   "execution_count": 12,
   "metadata": {},
   "outputs": [
    {
     "data": {
      "text/plain": [
       "860     88.4\n",
       "1316    87.8\n",
       "1627    81.8\n",
       "1879    91.9\n",
       "1885    88.3\n",
       "2285    86.6\n",
       "2590    87.1\n",
       "2639    91.8\n",
       "2812    89.6\n",
       "2835    88.7\n",
       "2836    88.4\n",
       "2841    84.4\n",
       "2996    86.1\n",
       "3425    86.8\n",
       "3428    86.5\n",
       "3429    85.3\n",
       "3646    87.9\n",
       "3673    94.0\n",
       "Name: FBv, dtype: float64"
      ]
     },
     "execution_count": 12,
     "metadata": {},
     "output_type": "execute_result"
    }
   ],
   "source": [
    "df[df['Pitch Diversity'] == df['Pitch Diversity'].max()]['FBv']"
   ]
  },
  {
   "cell_type": "code",
   "execution_count": null,
   "metadata": {},
   "outputs": [],
   "source": []
  },
  {
   "cell_type": "code",
   "execution_count": null,
   "metadata": {},
   "outputs": [],
   "source": []
  },
  {
   "cell_type": "code",
   "execution_count": null,
   "metadata": {},
   "outputs": [],
   "source": []
  },
  {
   "cell_type": "code",
   "execution_count": null,
   "metadata": {},
   "outputs": [],
   "source": []
  }
 ],
 "metadata": {
  "kernelspec": {
   "display_name": "Python 3",
   "language": "python",
   "name": "python3"
  },
  "language_info": {
   "codemirror_mode": {
    "name": "ipython",
    "version": 3
   },
   "file_extension": ".py",
   "mimetype": "text/x-python",
   "name": "python",
   "nbconvert_exporter": "python",
   "pygments_lexer": "ipython3",
   "version": "3.7.4"
  }
 },
 "nbformat": 4,
 "nbformat_minor": 2
}
