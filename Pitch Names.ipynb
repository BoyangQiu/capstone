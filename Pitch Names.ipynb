{
 "cells": [
  {
   "cell_type": "code",
   "execution_count": 3,
   "metadata": {},
   "outputs": [],
   "source": [
    "import pandas as pd\n",
    "import numpy as np\n",
    "from sklearn.model_selection import train_test_split"
   ]
  },
  {
   "cell_type": "code",
   "execution_count": 2,
   "metadata": {},
   "outputs": [
    {
     "name": "stderr",
     "output_type": "stream",
     "text": [
      "C:\\ProgramData\\Anaconda\\envs\\capstone\\lib\\site-packages\\numpy\\lib\\arraysetops.py:569: FutureWarning: elementwise comparison failed; returning scalar instead, but in the future will perform elementwise comparison\n",
      "  mask |= (ar1 == a)\n"
     ]
    }
   ],
   "source": [
    "df = pd.read_csv('pitches_final_simplified.csv', index_col = 0)"
   ]
  },
  {
   "cell_type": "code",
   "execution_count": 36,
   "metadata": {},
   "outputs": [],
   "source": [
    "# List of players to go through for now\n",
    "player_list = ['Clayton Kershaw', 'Justin Verlander', 'Max Scherzer', 'Stephen Strasburg', 'Gerrit Cole',\n",
    "              'Jacob deGrom', 'Zack Greinke', 'Madison Bumgarner', 'Marcus Stroman', 'Chris Sale', 'Hyun-Jin Ryu']"
   ]
  },
  {
   "cell_type": "code",
   "execution_count": 39,
   "metadata": {},
   "outputs": [
    {
     "name": "stderr",
     "output_type": "stream",
     "text": [
      "C:\\ProgramData\\Anaconda\\envs\\capstone\\lib\\site-packages\\pandas\\core\\frame.py:3990: SettingWithCopyWarning: \n",
      "A value is trying to be set on a copy of a slice from a DataFrame\n",
      "\n",
      "See the caveats in the documentation: https://pandas.pydata.org/pandas-docs/stable/user_guide/indexing.html#returning-a-view-versus-a-copy\n",
      "  return super().drop(\n"
     ]
    }
   ],
   "source": [
    "# Create an empty df to hold all the pitch names\n",
    "pitch_df = pd.DataFrame()\n",
    "for name in player_list:\n",
    "    kershaw = df[df['player_name']==name]\n",
    "\n",
    "    # Drop intentional balls and pitch outs, they aren't real pitches and batters don't need to worry about them\n",
    "    kershaw.drop(kershaw[kershaw['pitch_name']=='Intentional Ball'].index, inplace=True, errors = 'ignore')\n",
    "    kershaw.drop(kershaw[kershaw['pitch_name']=='Pitch Out'].index, inplace=True, errors = 'ignore')\n",
    "    kershaw.drop(kershaw[kershaw['pitch_name']=='Other'].index, inplace=True, errors = 'ignore')\n",
    "\n",
    "    # Unable to classify/do regression with classes with only 1 instance\n",
    "    # so drop the rows with that pitch as well as the row w/ corresponding 'prev_pitch'\n",
    "    for i in range(len(kershaw['pitch_name'].value_counts())):\n",
    "        if kershaw['pitch_name'].value_counts()[i] == 1:\n",
    "            drop = kershaw['pitch_name'].value_counts().index[i]\n",
    "            kershaw.drop(kershaw[kershaw['pitch_name']==drop].index, inplace=True)\n",
    "            kershaw.drop(kershaw[kershaw['prev_pitch']==drop].index, inplace=True)\n",
    "            \n",
    "    # Mirror the transformation of the pitch names to dummies for use in TF model\n",
    "    y = kershaw['pitch_name']\n",
    "    pitch = pd.get_dummies(y.copy())\n",
    "    # Append each dummie df's columns (pitch names) to the pitch_df\n",
    "    # Must be turned into a pd.series to be appended\n",
    "    pitch_df = pitch_df.append(pd.Series(pitch.columns.values), ignore_index = True)\n",
    "    \n",
    "# Add player names as the indices\n",
    "pitch_df.index = player_list\n",
    "# Save as a csv\n",
    "pitch_df.to_csv('pitch_names.csv')"
   ]
  },
  {
   "cell_type": "code",
   "execution_count": 64,
   "metadata": {},
   "outputs": [
    {
     "data": {
      "text/html": [
       "<div>\n",
       "<style scoped>\n",
       "    .dataframe tbody tr th:only-of-type {\n",
       "        vertical-align: middle;\n",
       "    }\n",
       "\n",
       "    .dataframe tbody tr th {\n",
       "        vertical-align: top;\n",
       "    }\n",
       "\n",
       "    .dataframe thead th {\n",
       "        text-align: right;\n",
       "    }\n",
       "</style>\n",
       "<table border=\"1\" class=\"dataframe\">\n",
       "  <thead>\n",
       "    <tr style=\"text-align: right;\">\n",
       "      <th></th>\n",
       "      <th>0</th>\n",
       "      <th>1</th>\n",
       "      <th>2</th>\n",
       "      <th>3</th>\n",
       "    </tr>\n",
       "  </thead>\n",
       "  <tbody>\n",
       "    <tr>\n",
       "      <th>Clayton Kershaw</th>\n",
       "      <td>Breaking Ball</td>\n",
       "      <td>Fastball</td>\n",
       "      <td>Off-speed</td>\n",
       "      <td>NaN</td>\n",
       "    </tr>\n",
       "    <tr>\n",
       "      <th>Justin Verlander</th>\n",
       "      <td>Breaking Ball</td>\n",
       "      <td>Fastball</td>\n",
       "      <td>Off-speed</td>\n",
       "      <td>NaN</td>\n",
       "    </tr>\n",
       "    <tr>\n",
       "      <th>Max Scherzer</th>\n",
       "      <td>Breaking Ball</td>\n",
       "      <td>Fastball</td>\n",
       "      <td>Off-speed</td>\n",
       "      <td>NaN</td>\n",
       "    </tr>\n",
       "    <tr>\n",
       "      <th>Stephen Strasburg</th>\n",
       "      <td>Breaking Ball</td>\n",
       "      <td>Fastball</td>\n",
       "      <td>Off-speed</td>\n",
       "      <td>NaN</td>\n",
       "    </tr>\n",
       "    <tr>\n",
       "      <th>Gerrit Cole</th>\n",
       "      <td>Breaking Ball</td>\n",
       "      <td>Fastball</td>\n",
       "      <td>Off-speed</td>\n",
       "      <td>NaN</td>\n",
       "    </tr>\n",
       "    <tr>\n",
       "      <th>Jacob deGrom</th>\n",
       "      <td>Breaking Ball</td>\n",
       "      <td>Fastball</td>\n",
       "      <td>Off-speed</td>\n",
       "      <td>NaN</td>\n",
       "    </tr>\n",
       "    <tr>\n",
       "      <th>Zack Greinke</th>\n",
       "      <td>Breaking Ball</td>\n",
       "      <td>Fastball</td>\n",
       "      <td>Junk</td>\n",
       "      <td>Off-speed</td>\n",
       "    </tr>\n",
       "    <tr>\n",
       "      <th>Madison Bumgarner</th>\n",
       "      <td>Breaking Ball</td>\n",
       "      <td>Fastball</td>\n",
       "      <td>Off-speed</td>\n",
       "      <td>NaN</td>\n",
       "    </tr>\n",
       "    <tr>\n",
       "      <th>Marcus Stroman</th>\n",
       "      <td>Breaking Ball</td>\n",
       "      <td>Fastball</td>\n",
       "      <td>Off-speed</td>\n",
       "      <td>NaN</td>\n",
       "    </tr>\n",
       "    <tr>\n",
       "      <th>Chris Sale</th>\n",
       "      <td>Breaking Ball</td>\n",
       "      <td>Fastball</td>\n",
       "      <td>Off-speed</td>\n",
       "      <td>NaN</td>\n",
       "    </tr>\n",
       "    <tr>\n",
       "      <th>Hyun-Jin Ryu</th>\n",
       "      <td>Breaking Ball</td>\n",
       "      <td>Fastball</td>\n",
       "      <td>Off-speed</td>\n",
       "      <td>NaN</td>\n",
       "    </tr>\n",
       "  </tbody>\n",
       "</table>\n",
       "</div>"
      ],
      "text/plain": [
       "                               0         1          2          3\n",
       "Clayton Kershaw    Breaking Ball  Fastball  Off-speed        NaN\n",
       "Justin Verlander   Breaking Ball  Fastball  Off-speed        NaN\n",
       "Max Scherzer       Breaking Ball  Fastball  Off-speed        NaN\n",
       "Stephen Strasburg  Breaking Ball  Fastball  Off-speed        NaN\n",
       "Gerrit Cole        Breaking Ball  Fastball  Off-speed        NaN\n",
       "Jacob deGrom       Breaking Ball  Fastball  Off-speed        NaN\n",
       "Zack Greinke       Breaking Ball  Fastball       Junk  Off-speed\n",
       "Madison Bumgarner  Breaking Ball  Fastball  Off-speed        NaN\n",
       "Marcus Stroman     Breaking Ball  Fastball  Off-speed        NaN\n",
       "Chris Sale         Breaking Ball  Fastball  Off-speed        NaN\n",
       "Hyun-Jin Ryu       Breaking Ball  Fastball  Off-speed        NaN"
      ]
     },
     "execution_count": 64,
     "metadata": {},
     "output_type": "execute_result"
    }
   ],
   "source": [
    "# Check it went accordingly\n",
    "df = pd.read_csv('pitch_names.csv', index_col = 0)\n",
    "df"
   ]
  },
  {
   "cell_type": "code",
   "execution_count": 65,
   "metadata": {},
   "outputs": [
    {
     "data": {
      "text/plain": [
       "['Breaking Ball', 'Fastball', 'Off-speed']"
      ]
     },
     "execution_count": 65,
     "metadata": {},
     "output_type": "execute_result"
    }
   ],
   "source": [
    "# Get the row values as a list\n",
    "df[df.index == 'Clayton Kershaw'].dropna(axis = 1).values.tolist().pop()"
   ]
  }
 ],
 "metadata": {
  "kernelspec": {
   "display_name": "Python 3",
   "language": "python",
   "name": "python3"
  },
  "language_info": {
   "codemirror_mode": {
    "name": "ipython",
    "version": 3
   },
   "file_extension": ".py",
   "mimetype": "text/x-python",
   "name": "python",
   "nbconvert_exporter": "python",
   "pygments_lexer": "ipython3",
   "version": "3.8.3"
  }
 },
 "nbformat": 4,
 "nbformat_minor": 4
}
