{
 "cells": [
  {
   "cell_type": "code",
   "execution_count": 23,
   "metadata": {},
   "outputs": [],
   "source": [
    "import tensorflow as tf\n",
    "from tensorflow import keras\n",
    "import pandas as pd\n",
    "import numpy as np\n",
    "import matplotlib.pyplot as plt\n",
    "from tensorflow.keras.layers import Input, Dense, Activation,Dropout\n",
    "from tensorflow.keras.models import Model\n",
    "from sklearn.utils import resample\n",
    "from sklearn.metrics import confusion_matrix\n",
    "import seaborn as sns"
   ]
  },
  {
   "cell_type": "code",
   "execution_count": 114,
   "metadata": {},
   "outputs": [
    {
     "name": "stderr",
     "output_type": "stream",
     "text": [
      "C:\\ProgramData\\Anaconda\\envs\\capstone\\lib\\site-packages\\numpy\\lib\\arraysetops.py:569: FutureWarning: elementwise comparison failed; returning scalar instead, but in the future will perform elementwise comparison\n",
      "  mask |= (ar1 == a)\n"
     ]
    }
   ],
   "source": [
    "df = pd.read_csv('pitches_final_simplified.csv', index_col = 0)"
   ]
  },
  {
   "cell_type": "code",
   "execution_count": 115,
   "metadata": {},
   "outputs": [
    {
     "data": {
      "text/html": [
       "<div>\n",
       "<style scoped>\n",
       "    .dataframe tbody tr th:only-of-type {\n",
       "        vertical-align: middle;\n",
       "    }\n",
       "\n",
       "    .dataframe tbody tr th {\n",
       "        vertical-align: top;\n",
       "    }\n",
       "\n",
       "    .dataframe thead th {\n",
       "        text-align: right;\n",
       "    }\n",
       "</style>\n",
       "<table border=\"1\" class=\"dataframe\">\n",
       "  <thead>\n",
       "    <tr style=\"text-align: right;\">\n",
       "      <th></th>\n",
       "      <th>game_date</th>\n",
       "      <th>release_speed</th>\n",
       "      <th>player_name</th>\n",
       "      <th>description</th>\n",
       "      <th>zone</th>\n",
       "      <th>type</th>\n",
       "      <th>balls</th>\n",
       "      <th>strikes</th>\n",
       "      <th>plate_x</th>\n",
       "      <th>plate_z</th>\n",
       "      <th>...</th>\n",
       "      <th>pitch_name</th>\n",
       "      <th>bat_score</th>\n",
       "      <th>fld_score</th>\n",
       "      <th>reg_season</th>\n",
       "      <th>post_season</th>\n",
       "      <th>p_left</th>\n",
       "      <th>p_right</th>\n",
       "      <th>bat_left</th>\n",
       "      <th>bat_right</th>\n",
       "      <th>prev_pitch</th>\n",
       "    </tr>\n",
       "  </thead>\n",
       "  <tbody>\n",
       "    <tr>\n",
       "      <th>0</th>\n",
       "      <td>2015-04-05</td>\n",
       "      <td>90.1</td>\n",
       "      <td>Adam Wainwright</td>\n",
       "      <td>ball</td>\n",
       "      <td>13</td>\n",
       "      <td>B</td>\n",
       "      <td>0</td>\n",
       "      <td>0</td>\n",
       "      <td>-1.585</td>\n",
       "      <td>1.720</td>\n",
       "      <td>...</td>\n",
       "      <td>Fastball</td>\n",
       "      <td>0</td>\n",
       "      <td>1</td>\n",
       "      <td>1</td>\n",
       "      <td>0</td>\n",
       "      <td>0</td>\n",
       "      <td>1</td>\n",
       "      <td>1</td>\n",
       "      <td>0</td>\n",
       "      <td>None</td>\n",
       "    </tr>\n",
       "    <tr>\n",
       "      <th>1</th>\n",
       "      <td>2015-04-05</td>\n",
       "      <td>88.1</td>\n",
       "      <td>Adam Wainwright</td>\n",
       "      <td>hit_into_play_no_out</td>\n",
       "      <td>5</td>\n",
       "      <td>X</td>\n",
       "      <td>1</td>\n",
       "      <td>0</td>\n",
       "      <td>0.008</td>\n",
       "      <td>2.602</td>\n",
       "      <td>...</td>\n",
       "      <td>Fastball</td>\n",
       "      <td>0</td>\n",
       "      <td>1</td>\n",
       "      <td>1</td>\n",
       "      <td>0</td>\n",
       "      <td>0</td>\n",
       "      <td>1</td>\n",
       "      <td>1</td>\n",
       "      <td>0</td>\n",
       "      <td>Fastball</td>\n",
       "    </tr>\n",
       "    <tr>\n",
       "      <th>2</th>\n",
       "      <td>2015-04-05</td>\n",
       "      <td>92.2</td>\n",
       "      <td>Adam Wainwright</td>\n",
       "      <td>foul</td>\n",
       "      <td>5</td>\n",
       "      <td>S</td>\n",
       "      <td>0</td>\n",
       "      <td>0</td>\n",
       "      <td>0.015</td>\n",
       "      <td>2.287</td>\n",
       "      <td>...</td>\n",
       "      <td>Fastball</td>\n",
       "      <td>0</td>\n",
       "      <td>1</td>\n",
       "      <td>1</td>\n",
       "      <td>0</td>\n",
       "      <td>0</td>\n",
       "      <td>1</td>\n",
       "      <td>0</td>\n",
       "      <td>1</td>\n",
       "      <td>None</td>\n",
       "    </tr>\n",
       "    <tr>\n",
       "      <th>3</th>\n",
       "      <td>2015-04-05</td>\n",
       "      <td>76.6</td>\n",
       "      <td>Adam Wainwright</td>\n",
       "      <td>blocked_ball</td>\n",
       "      <td>14</td>\n",
       "      <td>B</td>\n",
       "      <td>0</td>\n",
       "      <td>1</td>\n",
       "      <td>1.703</td>\n",
       "      <td>0.220</td>\n",
       "      <td>...</td>\n",
       "      <td>Breaking Ball</td>\n",
       "      <td>0</td>\n",
       "      <td>1</td>\n",
       "      <td>1</td>\n",
       "      <td>0</td>\n",
       "      <td>0</td>\n",
       "      <td>1</td>\n",
       "      <td>0</td>\n",
       "      <td>1</td>\n",
       "      <td>Fastball</td>\n",
       "    </tr>\n",
       "    <tr>\n",
       "      <th>4</th>\n",
       "      <td>2015-04-05</td>\n",
       "      <td>89.9</td>\n",
       "      <td>Adam Wainwright</td>\n",
       "      <td>hit_into_play</td>\n",
       "      <td>9</td>\n",
       "      <td>X</td>\n",
       "      <td>1</td>\n",
       "      <td>2</td>\n",
       "      <td>0.788</td>\n",
       "      <td>1.808</td>\n",
       "      <td>...</td>\n",
       "      <td>Fastball</td>\n",
       "      <td>0</td>\n",
       "      <td>1</td>\n",
       "      <td>1</td>\n",
       "      <td>0</td>\n",
       "      <td>0</td>\n",
       "      <td>1</td>\n",
       "      <td>0</td>\n",
       "      <td>1</td>\n",
       "      <td>Breaking Ball</td>\n",
       "    </tr>\n",
       "  </tbody>\n",
       "</table>\n",
       "<p>5 rows × 29 columns</p>\n",
       "</div>"
      ],
      "text/plain": [
       "    game_date  release_speed      player_name           description  zone  \\\n",
       "0  2015-04-05           90.1  Adam Wainwright                  ball    13   \n",
       "1  2015-04-05           88.1  Adam Wainwright  hit_into_play_no_out     5   \n",
       "2  2015-04-05           92.2  Adam Wainwright                  foul     5   \n",
       "3  2015-04-05           76.6  Adam Wainwright          blocked_ball    14   \n",
       "4  2015-04-05           89.9  Adam Wainwright         hit_into_play     9   \n",
       "\n",
       "  type  balls  strikes  plate_x  plate_z  ...     pitch_name  bat_score  \\\n",
       "0    B      0        0   -1.585    1.720  ...       Fastball          0   \n",
       "1    X      1        0    0.008    2.602  ...       Fastball          0   \n",
       "2    S      0        0    0.015    2.287  ...       Fastball          0   \n",
       "3    B      0        1    1.703    0.220  ...  Breaking Ball          0   \n",
       "4    X      1        2    0.788    1.808  ...       Fastball          0   \n",
       "\n",
       "   fld_score  reg_season  post_season  p_left  p_right  bat_left  bat_right  \\\n",
       "0          1           1            0       0        1         1          0   \n",
       "1          1           1            0       0        1         1          0   \n",
       "2          1           1            0       0        1         0          1   \n",
       "3          1           1            0       0        1         0          1   \n",
       "4          1           1            0       0        1         0          1   \n",
       "\n",
       "      prev_pitch  \n",
       "0           None  \n",
       "1       Fastball  \n",
       "2           None  \n",
       "3       Fastball  \n",
       "4  Breaking Ball  \n",
       "\n",
       "[5 rows x 29 columns]"
      ]
     },
     "execution_count": 115,
     "metadata": {},
     "output_type": "execute_result"
    }
   ],
   "source": [
    "df.head()"
   ]
  },
  {
   "cell_type": "code",
   "execution_count": 116,
   "metadata": {},
   "outputs": [],
   "source": [
    "kershaw = df[df['player_name']=='Max Scherzer']"
   ]
  },
  {
   "cell_type": "code",
   "execution_count": 117,
   "metadata": {},
   "outputs": [
    {
     "data": {
      "text/plain": [
       "Fastball         9910\n",
       "Breaking Ball    4758\n",
       "Off-speed        2389\n",
       "Name: pitch_name, dtype: int64"
      ]
     },
     "execution_count": 117,
     "metadata": {},
     "output_type": "execute_result"
    }
   ],
   "source": [
    "# Naturally expect a class imbalance for pitchers\n",
    "kershaw['pitch_name'].value_counts()"
   ]
  },
  {
   "cell_type": "code",
   "execution_count": 118,
   "metadata": {},
   "outputs": [
    {
     "name": "stderr",
     "output_type": "stream",
     "text": [
      "C:\\ProgramData\\Anaconda\\envs\\capstone\\lib\\site-packages\\pandas\\core\\frame.py:3990: SettingWithCopyWarning: \n",
      "A value is trying to be set on a copy of a slice from a DataFrame\n",
      "\n",
      "See the caveats in the documentation: https://pandas.pydata.org/pandas-docs/stable/user_guide/indexing.html#returning-a-view-versus-a-copy\n",
      "  return super().drop(\n"
     ]
    }
   ],
   "source": [
    "# Drop intentional balls and pitch outs, they aren't real pitches and batters don't need to worry about them\n",
    "kershaw.drop(kershaw[kershaw['pitch_name']=='Intentional Ball'].index, inplace=True, errors = 'ignore')\n",
    "kershaw.drop(kershaw[kershaw['pitch_name']=='Pitch Out'].index, inplace=True, errors = 'ignore')\n",
    "\n",
    "# Unable to classify/do regression with classes with only 1 instance\n",
    "# so drop the rows with that pitch as well as the row w/ corresponding 'prev_pitch'\n",
    "for i in range(len(kershaw['pitch_name'].value_counts())):\n",
    "    if kershaw['pitch_name'].value_counts()[i] == 1:\n",
    "        drop = kershaw['pitch_name'].value_counts().index[i]\n",
    "        kershaw.drop(kershaw[kershaw['pitch_name']==drop].index, inplace=True)\n",
    "        kershaw.drop(kershaw[kershaw['prev_pitch']==drop].index, inplace=True)\n",
    "\n",
    "kershaw.drop(['game_date', 'description'], axis = 1, inplace = True)\n",
    "\n",
    "# Drop release_speed since this isn't a predicative feature for guessing pitches prior to the pitch being thrown\n",
    "kershaw.drop(['release_speed'], axis = 1, inplace = True)\n",
    "\n",
    "# Drop other non pre-pitch predicative stuff\n",
    "kershaw.drop(['type', 'plate_x', 'plate_z'], axis = 1, inplace = True)\n",
    "\n",
    "kershaw.drop(['player_name', 'at_bat_number'], axis = 1, inplace = True)\n",
    "\n",
    "balls = pd.get_dummies(kershaw['balls'], prefix = 'b_')\n",
    "\n",
    "strikes = pd.get_dummies(kershaw['strikes'], prefix = 's_')\n",
    "\n",
    "prev = pd.get_dummies(kershaw['prev_pitch'], prefix= 'prev_')\n",
    "\n",
    "X = pd.concat([kershaw, balls, strikes, prev], axis = 1)\n",
    "X.drop(['balls', 'strikes', 'prev_pitch'], axis = 1, inplace = True)\n",
    "\n",
    "# X.drop(['pitch_name'], axis = 1, inplace = True)\n",
    "\n",
    "X.drop(['sz_top', 'sz_bot'], axis = 1, inplace = True)\n",
    "\n",
    "X['early'] = np.where(X['inning'] <= 3, 1, 0)\n",
    "X['mid'] = np.where((X['inning'] <= 6) & (X['inning'] > 3), 1, 0)\n",
    "X['late'] = np.where((X['inning'] <= 9) & (X['inning'] > 6), 1, 0)\n",
    "\n",
    "X.drop(['inning'], axis = 1, inplace = True)\n",
    "\n",
    "X.drop(['pitch_number'], axis = 1, inplace = True)\n",
    "\n",
    "X.drop(['zone'], axis = 1, inplace = True)"
   ]
  },
  {
   "cell_type": "code",
   "execution_count": 119,
   "metadata": {},
   "outputs": [],
   "source": [
    "X1 = X.drop(['pitch_name'], axis = 1)\n",
    "y = X['pitch_name']"
   ]
  },
  {
   "cell_type": "code",
   "execution_count": 120,
   "metadata": {},
   "outputs": [],
   "source": [
    "from sklearn.model_selection import train_test_split\n",
    "\n",
    "# Split with stratification given the class imbalance\n",
    "X_train, X_test, y_train, y_test = train_test_split(X1, y, stratify = y, test_size=0.25)"
   ]
  },
  {
   "cell_type": "code",
   "execution_count": 121,
   "metadata": {},
   "outputs": [
    {
     "name": "stdout",
     "output_type": "stream",
     "text": [
      "Fastball         7432\n",
      "Breaking Ball    3568\n",
      "Off-speed        1792\n",
      "Name: pitch_name, dtype: int64\n",
      "Fastball         2478\n",
      "Breaking Ball    1190\n",
      "Off-speed         597\n",
      "Name: pitch_name, dtype: int64\n"
     ]
    }
   ],
   "source": [
    "print(y_train.value_counts())\n",
    "print(y_test.value_counts())"
   ]
  },
  {
   "cell_type": "code",
   "execution_count": 122,
   "metadata": {},
   "outputs": [],
   "source": [
    "# Convert output to an array\n",
    "pitch = pd.get_dummies(y_train.copy())\n",
    "y_train = pitch.values"
   ]
  },
  {
   "cell_type": "code",
   "execution_count": 123,
   "metadata": {},
   "outputs": [],
   "source": [
    "pitch = pd.get_dummies(y_test.copy())\n",
    "y_test = pitch.values"
   ]
  },
  {
   "cell_type": "code",
   "execution_count": 124,
   "metadata": {},
   "outputs": [
    {
     "name": "stdout",
     "output_type": "stream",
     "text": [
      "(12792, 26)\n",
      "(12792, 3)\n",
      "(4265, 26)\n",
      "(4265, 3)\n"
     ]
    }
   ],
   "source": [
    "print(X_train.shape)\n",
    "print(y_train.shape)\n",
    "print(X_test.shape)\n",
    "print(y_test.shape)"
   ]
  },
  {
   "cell_type": "code",
   "execution_count": 125,
   "metadata": {},
   "outputs": [],
   "source": [
    "opt = tf.keras.optimizers.Adam(lr=0.0001)"
   ]
  },
  {
   "cell_type": "code",
   "execution_count": 133,
   "metadata": {
    "scrolled": true
   },
   "outputs": [
    {
     "name": "stdout",
     "output_type": "stream",
     "text": [
      "Epoch 1/30\n",
      "410/410 [==============================] - 2s 4ms/step - loss: 0.9132 - acc: 0.5816 - val_loss: 0.8846 - val_acc: 0.5744\n",
      "Epoch 2/30\n",
      "410/410 [==============================] - 1s 3ms/step - loss: 0.8848 - acc: 0.5839 - val_loss: 0.8786 - val_acc: 0.5698\n",
      "Epoch 3/30\n",
      "410/410 [==============================] - 1s 3ms/step - loss: 0.8764 - acc: 0.5824 - val_loss: 0.8729 - val_acc: 0.5826\n",
      "Epoch 4/30\n",
      "410/410 [==============================] - 1s 3ms/step - loss: 0.8737 - acc: 0.5820 - val_loss: 0.8718 - val_acc: 0.5791\n",
      "Epoch 5/30\n",
      "410/410 [==============================] - 1s 3ms/step - loss: 0.8719 - acc: 0.5891 - val_loss: 0.8727 - val_acc: 0.5850\n",
      "Epoch 6/30\n",
      "410/410 [==============================] - 1s 3ms/step - loss: 0.8689 - acc: 0.5840 - val_loss: 0.8717 - val_acc: 0.5795\n",
      "Epoch 7/30\n",
      "410/410 [==============================] - 1s 3ms/step - loss: 0.8686 - acc: 0.5848 - val_loss: 0.8700 - val_acc: 0.5795\n",
      "Epoch 8/30\n",
      "410/410 [==============================] - 1s 3ms/step - loss: 0.8652 - acc: 0.5839 - val_loss: 0.8734 - val_acc: 0.5760\n",
      "Epoch 9/30\n",
      "410/410 [==============================] - 1s 3ms/step - loss: 0.8642 - acc: 0.5864 - val_loss: 0.8705 - val_acc: 0.5807\n",
      "Epoch 10/30\n",
      "410/410 [==============================] - 1s 3ms/step - loss: 0.8641 - acc: 0.5871 - val_loss: 0.8713 - val_acc: 0.5823\n",
      "Epoch 11/30\n",
      "410/410 [==============================] - 1s 3ms/step - loss: 0.8614 - acc: 0.5856 - val_loss: 0.8703 - val_acc: 0.5811\n",
      "Epoch 12/30\n",
      "410/410 [==============================] - 1s 3ms/step - loss: 0.8597 - acc: 0.5871 - val_loss: 0.8684 - val_acc: 0.5776\n",
      "Epoch 13/30\n",
      "410/410 [==============================] - 1s 3ms/step - loss: 0.8588 - acc: 0.5881 - val_loss: 0.8695 - val_acc: 0.5807\n",
      "Epoch 14/30\n",
      "410/410 [==============================] - 1s 3ms/step - loss: 0.8590 - acc: 0.5901 - val_loss: 0.8679 - val_acc: 0.5854\n",
      "Epoch 15/30\n",
      "410/410 [==============================] - 1s 3ms/step - loss: 0.8582 - acc: 0.5954 - val_loss: 0.8672 - val_acc: 0.5815\n",
      "Epoch 16/30\n",
      "410/410 [==============================] - 1s 3ms/step - loss: 0.8547 - acc: 0.5939 - val_loss: 0.8697 - val_acc: 0.5815\n",
      "Epoch 17/30\n",
      "410/410 [==============================] - 1s 3ms/step - loss: 0.8570 - acc: 0.5900 - val_loss: 0.8673 - val_acc: 0.5842\n",
      "Epoch 18/30\n",
      "410/410 [==============================] - 1s 3ms/step - loss: 0.8533 - acc: 0.5894 - val_loss: 0.8679 - val_acc: 0.5772\n",
      "Epoch 19/30\n",
      "410/410 [==============================] - 1s 3ms/step - loss: 0.8535 - acc: 0.5913 - val_loss: 0.8680 - val_acc: 0.5862\n",
      "Epoch 20/30\n",
      "410/410 [==============================] - 1s 3ms/step - loss: 0.8510 - acc: 0.5942 - val_loss: 0.8708 - val_acc: 0.5834\n",
      "Epoch 21/30\n",
      "410/410 [==============================] - 1s 3ms/step - loss: 0.8511 - acc: 0.5936 - val_loss: 0.8703 - val_acc: 0.5823\n",
      "Epoch 22/30\n",
      "410/410 [==============================] - 1s 3ms/step - loss: 0.8507 - acc: 0.5913 - val_loss: 0.8698 - val_acc: 0.5834\n",
      "Epoch 23/30\n",
      "410/410 [==============================] - 1s 3ms/step - loss: 0.8488 - acc: 0.5924 - val_loss: 0.8697 - val_acc: 0.5768\n",
      "Epoch 24/30\n",
      "410/410 [==============================] - 1s 3ms/step - loss: 0.8469 - acc: 0.5940 - val_loss: 0.8703 - val_acc: 0.5772\n",
      "Epoch 25/30\n",
      "410/410 [==============================] - 1s 3ms/step - loss: 0.8481 - acc: 0.5943 - val_loss: 0.8694 - val_acc: 0.5803\n",
      "Epoch 26/30\n",
      "410/410 [==============================] - ETA: 0s - loss: 0.8451 - acc: 0.592 - 1s 3ms/step - loss: 0.8447 - acc: 0.5918 - val_loss: 0.8704 - val_acc: 0.5795\n",
      "Epoch 27/30\n",
      "410/410 [==============================] - 1s 3ms/step - loss: 0.8443 - acc: 0.5952 - val_loss: 0.8708 - val_acc: 0.5799\n",
      "Epoch 28/30\n",
      "410/410 [==============================] - 1s 3ms/step - loss: 0.8437 - acc: 0.5947 - val_loss: 0.8732 - val_acc: 0.5811\n",
      "Epoch 29/30\n",
      "410/410 [==============================] - 1s 3ms/step - loss: 0.8419 - acc: 0.5950 - val_loss: 0.8753 - val_acc: 0.5811\n",
      "Epoch 30/30\n",
      "410/410 [==============================] - 1s 3ms/step - loss: 0.8403 - acc: 0.5966 - val_loss: 0.8732 - val_acc: 0.5784\n"
     ]
    }
   ],
   "source": [
    "# Want a reasonable number of epochs for running/adjusting to different pitchers\n",
    "\n",
    "# Make sure to reset model before running each time\n",
    "input_layer = Input(shape = (X_train.shape[1], ))\n",
    "dense_layer_1 = Dense(512, activation='relu')(input_layer)\n",
    "drop_layer_1 = tf.keras.layers.Dropout(.2)(dense_layer_1)\n",
    "dense_layer_2 = Dense(128, activation='relu')(drop_layer_1)\n",
    "drop_layer_2 = tf.keras.layers.Dropout(.2)(dense_layer_2)\n",
    "dense_layer_3 = Dense(128, activation='relu')(drop_layer_2)\n",
    "drop_layer_3 = tf.keras.layers.Dropout(.2)(dense_layer_3)\n",
    "dense_layer_4 = Dense(64, activation='relu')(drop_layer_3)\n",
    "# Output shape equals to number of classes (columns) in y\n",
    "output = Dense(y_train.shape[1], activation='softmax')(dense_layer_4)\n",
    "\n",
    "model = Model(inputs=input_layer, outputs=output)\n",
    "model.compile(loss='categorical_crossentropy', optimizer=opt, metrics=['acc'])\n",
    "\n",
    "history = model.fit(X_train, y_train, batch_size=25, epochs=30, verbose=1, validation_split=0.2)"
   ]
  },
  {
   "cell_type": "code",
   "execution_count": 134,
   "metadata": {},
   "outputs": [
    {
     "data": {
      "image/png": "[encoded data removed]",
      "text/plain": [
       "<Figure size 720x432 with 1 Axes>"
      ]
     },
     "metadata": {
      "needs_background": "light"
     },
     "output_type": "display_data"
    }
   ],
   "source": [
    "plt.figure(figsize = (10,6))\n",
    "plt.plot(history.history['loss'], marker='o', markersize = 3, label=' train loss')\n",
    "plt.plot(history.history['val_loss'], marker='o', markersize = 3, label='val loss')\n",
    "plt.plot(history.history['acc'], marker='o', markersize = 3, label='train accuracy')\n",
    "plt.plot(history.history['val_acc'], marker='o', markersize = 3, label='val accuracy')\n",
    "plt.title('Training Accuracy/Loss and Validation Accuracy/Loss')\n",
    "plt.legend(loc='best')\n",
    "plt.xlabel('Epoch')\n",
    "plt.ylabel('Accuracy / Loss')\n",
    "plt.show()"
   ]
  },
  {
   "cell_type": "code",
   "execution_count": 135,
   "metadata": {},
   "outputs": [
    {
     "name": "stdout",
     "output_type": "stream",
     "text": [
      "134/134 [==============================] - 0s 1ms/step - loss: 0.8672 - acc: 0.5831\n",
      "Test Loss: 0.8671820759773254\n",
      "Test Accuracy: 0.5831183791160583\n"
     ]
    }
   ],
   "source": [
    "score = model.evaluate(X_test, y_test, verbose=1)\n",
    "print(\"Test Loss:\", score[0])\n",
    "print(\"Test Accuracy:\", score[1])"
   ]
  },
  {
   "cell_type": "code",
   "execution_count": 136,
   "metadata": {},
   "outputs": [
    {
     "data": {
      "text/html": [
       "<div>\n",
       "<style scoped>\n",
       "    .dataframe tbody tr th:only-of-type {\n",
       "        vertical-align: middle;\n",
       "    }\n",
       "\n",
       "    .dataframe tbody tr th {\n",
       "        vertical-align: top;\n",
       "    }\n",
       "\n",
       "    .dataframe thead th {\n",
       "        text-align: right;\n",
       "    }\n",
       "</style>\n",
       "<table border=\"1\" class=\"dataframe\">\n",
       "  <thead>\n",
       "    <tr style=\"text-align: right;\">\n",
       "      <th></th>\n",
       "      <th>Pred_Breaking Ball</th>\n",
       "      <th>Pred_Fastball</th>\n",
       "      <th>Pred_Off-speed</th>\n",
       "      <th>Sum of Actuals</th>\n",
       "    </tr>\n",
       "  </thead>\n",
       "  <tbody>\n",
       "    <tr>\n",
       "      <th>Actual_Breaking Ball</th>\n",
       "      <td>287</td>\n",
       "      <td>893</td>\n",
       "      <td>10</td>\n",
       "      <td>1190</td>\n",
       "    </tr>\n",
       "    <tr>\n",
       "      <th>Actual_Fastball</th>\n",
       "      <td>273</td>\n",
       "      <td>2184</td>\n",
       "      <td>21</td>\n",
       "      <td>2478</td>\n",
       "    </tr>\n",
       "    <tr>\n",
       "      <th>Actual_Off-speed</th>\n",
       "      <td>71</td>\n",
       "      <td>510</td>\n",
       "      <td>16</td>\n",
       "      <td>597</td>\n",
       "    </tr>\n",
       "    <tr>\n",
       "      <th>Sum of Predictions</th>\n",
       "      <td>631</td>\n",
       "      <td>3587</td>\n",
       "      <td>47</td>\n",
       "      <td>4265</td>\n",
       "    </tr>\n",
       "  </tbody>\n",
       "</table>\n",
       "</div>"
      ],
      "text/plain": [
       "                      Pred_Breaking Ball  Pred_Fastball  Pred_Off-speed  \\\n",
       "Actual_Breaking Ball                 287            893              10   \n",
       "Actual_Fastball                      273           2184              21   \n",
       "Actual_Off-speed                      71            510              16   \n",
       "Sum of Predictions                   631           3587              47   \n",
       "\n",
       "                      Sum of Actuals  \n",
       "Actual_Breaking Ball            1190  \n",
       "Actual_Fastball                 2478  \n",
       "Actual_Off-speed                 597  \n",
       "Sum of Predictions              4265  "
      ]
     },
     "execution_count": 136,
     "metadata": {},
     "output_type": "execute_result"
    }
   ],
   "source": [
    "predictions = model.predict(X_test)\n",
    "pred_pitch = np.argmax(predictions,axis=1)\n",
    "actual_pitch = np.argmax(y_test, axis = 1)\n",
    "xnames = pitch.columns\n",
    "\n",
    "\n",
    "# Transform confusion matrix to df\n",
    "cols = list(xnames)\n",
    "for x in range(len(cols)):\n",
    "    cols[x] = 'Pred_' + cols[x]\n",
    "confusion_df = pd.DataFrame(confusion_matrix(actual_pitch,pred_pitch), columns=cols)\n",
    "# Add column w/ sum of actuals\n",
    "confusion_df['Sum of Actuals'] = confusion_df.sum(axis=1)\n",
    "# Add row of sum of predictions\n",
    "confusion_df = confusion_df.append(pd.Series(confusion_df.sum(axis=0)), ignore_index=True)\n",
    "# Add detailed index names\n",
    "indices = list(xnames)\n",
    "for x in range(len(indices)):\n",
    "    indices[x] = 'Actual_' + indices[x]\n",
    "indices.append('Sum of Predictions')\n",
    "confusion_df.index=indices\n",
    "confusion_df"
   ]
  },
  {
   "cell_type": "code",
   "execution_count": 139,
   "metadata": {},
   "outputs": [
    {
     "data": {
      "text/plain": [
       "0.5133450122733121"
      ]
     },
     "execution_count": 139,
     "metadata": {},
     "output_type": "execute_result"
    }
   ],
   "source": [
    "from sklearn.metrics import f1_score\n",
    "\n",
    "f1_score(actual_pitch, pred_pitch, average = 'weighted')"
   ]
  },
  {
   "cell_type": "code",
   "execution_count": 140,
   "metadata": {},
   "outputs": [
    {
     "name": "stdout",
     "output_type": "stream",
     "text": [
      "               precision    recall  f1-score   support\n",
      "\n",
      "Breaking Ball       0.45      0.24      0.32      1190\n",
      "     Fastball       0.61      0.88      0.72      2478\n",
      "    Off-speed       0.34      0.03      0.05       597\n",
      "\n",
      "     accuracy                           0.58      4265\n",
      "    macro avg       0.47      0.38      0.36      4265\n",
      " weighted avg       0.53      0.58      0.51      4265\n",
      "\n"
     ]
    }
   ],
   "source": [
    "from sklearn.metrics import classification_report\n",
    "\n",
    "actual_pitch = np.where(actual_pitch == 0, xnames.values[0], \n",
    "                        np.where(actual_pitch == 1, xnames.values[1], \n",
    "                                 np.where(actual_pitch == 2, xnames.values[2], actual_pitch)))\n",
    "\n",
    "pred_pitch = np.where(pred_pitch == 0, xnames.values[0], \n",
    "                        np.where(pred_pitch == 1, xnames.values[1], \n",
    "                                 np.where(pred_pitch == 2, xnames.values[2], pred_pitch)))\n",
    "\n",
    "report_initial = classification_report(actual_pitch, pred_pitch)\n",
    "print(report_initial)"
   ]
  },
  {
   "cell_type": "code",
   "execution_count": 131,
   "metadata": {},
   "outputs": [
    {
     "data": {
      "text/plain": [
       "1.3616540441678278"
      ]
     },
     "execution_count": 131,
     "metadata": {},
     "output_type": "execute_result"
    }
   ],
   "source": [
    "# 50 epochs\n",
    "# Precision: How accurate are our claims?\n",
    "\n",
    "pfb = 2119/3473\n",
    "pbb = 328/729\n",
    "pof = 19/63\n",
    "\n",
    "sum = pfb+pbb+pof\n",
    "sum"
   ]
  },
  {
   "cell_type": "code",
   "execution_count": 137,
   "metadata": {},
   "outputs": [
    {
     "data": {
      "text/plain": [
       "1.404124476465938"
      ]
     },
     "execution_count": 137,
     "metadata": {},
     "output_type": "execute_result"
    }
   ],
   "source": [
    "# 30 epochs\n",
    "# Precision: How accurate are our claims?\n",
    "\n",
    "pfb = 2184/3587\n",
    "pbb = 287/631\n",
    "pof = 16/47\n",
    "\n",
    "sum = pfb+pbb+pof\n",
    "sum"
   ]
  },
  {
   "cell_type": "code",
   "execution_count": 132,
   "metadata": {},
   "outputs": [
    {
     "data": {
      "text/plain": [
       "1.1625811486335442"
      ]
     },
     "execution_count": 132,
     "metadata": {},
     "output_type": "execute_result"
    }
   ],
   "source": [
    "# 50 epochs\n",
    "# Recall: Of all true class 1 data points, how many were we able to recall?\n",
    "# RECALL is more important: want to be able to get as many of the correct pitches as possible\n",
    "\n",
    "rfb = 2119/2478\n",
    "rbb = 328/1190\n",
    "ros = 19/597\n",
    "\n",
    "sum = rfb + rbb + ros\n",
    "sum"
   ]
  },
  {
   "cell_type": "code",
   "execution_count": 138,
   "metadata": {},
   "outputs": [
    {
     "data": {
      "text/plain": [
       "1.1493330728083755"
      ]
     },
     "execution_count": 138,
     "metadata": {},
     "output_type": "execute_result"
    }
   ],
   "source": [
    "# 30 epochs\n",
    "# Recall: Of all true class 1 data points, how many were we able to recall?\n",
    "# RECALL is more important: want to be able to get as many of the correct pitches as possible\n",
    "\n",
    "rfb = 2184/2478\n",
    "rbb = 287/1190\n",
    "ros = 16/597\n",
    "\n",
    "sum = rfb + rbb + ros\n",
    "sum"
   ]
  },
  {
   "cell_type": "code",
   "execution_count": null,
   "metadata": {
    "scrolled": true
   },
   "outputs": [],
   "source": [
    "predictions = model.predict(X_test)\n",
    "\n",
    "xnames = pitch.columns\n",
    "\n",
    "indices = np.arange(len(pitch.columns))\n",
    "width = 0.3\n",
    "\n",
    "for i in np.arange(15):\n",
    "    plt.bar(indices-width/2, predictions[i], width, label = 'pred')\n",
    "    plt.bar(indices + width/2, y_test[i], width, label = 'actual')\n",
    "    plt.ylabel('Probability')\n",
    "    plt.xlabel('Pitch Type')\n",
    "    plt.legend()\n",
    "    plt.xticks(indices, xnames, rotation=90)\n",
    "    plt.show()"
   ]
  },
  {
   "cell_type": "code",
   "execution_count": 130,
   "metadata": {},
   "outputs": [
    {
     "data": {
      "image/png": "[encoded data removed]",
      "text/plain": [
       "<Figure size 720x720 with 1 Axes>"
      ]
     },
     "metadata": {
      "needs_background": "light"
     },
     "output_type": "display_data"
    }
   ],
   "source": [
    "pred_pitch = np.argmax(predictions,axis=1)\n",
    "actual_pitch = np.argmax(y_test, axis = 1)\n",
    "xnames = pitch.columns\n",
    "\n",
    "indices = list(xnames)\n",
    "for x in range(len(indices)):\n",
    "    indices[x] = 'Actual_' + indices[x]\n",
    "\n",
    "conf_mat = confusion_matrix(actual_pitch,pred_pitch)\n",
    "plt.figure(figsize = (10,10))\n",
    "sns.heatmap(conf_mat,\n",
    "            annot=True,\n",
    "            fmt=\"g\",\n",
    "            xticklabels=cols,\n",
    "            yticklabels=indices,\n",
    "            cbar=False\n",
    "           )\n",
    "plt.title('Model Confusion Matrix',size = 25,y=1.01)\n",
    "plt.show()"
   ]
  },
  {
   "cell_type": "code",
   "execution_count": null,
   "metadata": {
    "scrolled": true
   },
   "outputs": [],
   "source": [
    "\n",
    "\n",
    "xnames = pitch.columns\n",
    "\n",
    "indices = np.arange(len(pitch.columns))\n",
    "width = 0.3\n",
    "\n",
    "for i in np.arange(15):\n",
    "    plt.bar(indices-width/2, predictions[i], width, label = 'pred')\n",
    "    plt.bar(indices + width/2, y_test[i], width, label = 'actual')\n",
    "    plt.ylabel('Probability')\n",
    "    plt.xlabel('Pitch Type')\n",
    "    plt.legend()\n",
    "    plt.xticks(indices, xnames, rotation=90)\n",
    "    plt.show()"
   ]
  },
  {
   "cell_type": "code",
   "execution_count": null,
   "metadata": {},
   "outputs": [],
   "source": []
  },
  {
   "cell_type": "code",
   "execution_count": null,
   "metadata": {},
   "outputs": [],
   "source": []
  },
  {
   "cell_type": "markdown",
   "metadata": {},
   "source": [
    "---"
   ]
  }
 ],
 "metadata": {
  "kernelspec": {
   "display_name": "Python 3",
   "language": "python",
   "name": "python3"
  },
  "language_info": {
   "codemirror_mode": {
    "name": "ipython",
    "version": 3
   },
   "file_extension": ".py",
   "mimetype": "text/x-python",
   "name": "python",
   "nbconvert_exporter": "python",
   "pygments_lexer": "ipython3",
   "version": "3.8.3"
  }
 },
 "nbformat": 4,
 "nbformat_minor": 4
}
