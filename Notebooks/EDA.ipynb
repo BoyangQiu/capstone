{
 "cells": [
  {
   "cell_type": "code",
   "execution_count": 1,
   "metadata": {},
   "outputs": [],
   "source": [
    "import pandas as pd\n",
    "import numpy as np\n",
    "import matplotlib.pyplot as plt"
   ]
  },
  {
   "cell_type": "code",
   "execution_count": 2,
   "metadata": {},
   "outputs": [],
   "source": [
    "df = pd.read_csv('Master_df.csv', index_col = 0)"
   ]
  },
  {
   "cell_type": "code",
   "execution_count": 3,
   "metadata": {},
   "outputs": [],
   "source": [
    "df.drop(['SV'], axis=1, inplace=True)"
   ]
  },
  {
   "cell_type": "code",
   "execution_count": 6,
   "metadata": {},
   "outputs": [],
   "source": [
    "df.drop(['BA Against'], axis=1, inplace=True)"
   ]
  },
  {
   "cell_type": "code",
   "execution_count": 7,
   "metadata": {
    "collapsed": true
   },
   "outputs": [
    {
     "data": {
      "text/html": [
       "<div>\n",
       "<style scoped>\n",
       "    .dataframe tbody tr th:only-of-type {\n",
       "        vertical-align: middle;\n",
       "    }\n",
       "\n",
       "    .dataframe tbody tr th {\n",
       "        vertical-align: top;\n",
       "    }\n",
       "\n",
       "    .dataframe thead th {\n",
       "        text-align: right;\n",
       "    }\n",
       "</style>\n",
       "<table border=\"1\" class=\"dataframe\">\n",
       "  <thead>\n",
       "    <tr style=\"text-align: right;\">\n",
       "      <th></th>\n",
       "      <th>Season</th>\n",
       "      <th>Name</th>\n",
       "      <th>Team</th>\n",
       "      <th>W</th>\n",
       "      <th>L</th>\n",
       "      <th>G</th>\n",
       "      <th>GS</th>\n",
       "      <th>IP</th>\n",
       "      <th>K/9</th>\n",
       "      <th>BB/9</th>\n",
       "      <th>...</th>\n",
       "      <th>AVG</th>\n",
       "      <th>WHIP</th>\n",
       "      <th>IP/G</th>\n",
       "      <th>Pitch Diversity</th>\n",
       "      <th>Shannon Diversity</th>\n",
       "      <th>Strikeouts</th>\n",
       "      <th>Control</th>\n",
       "      <th>Stamina/Consistency</th>\n",
       "      <th>Velocity</th>\n",
       "      <th>Ground Balls</th>\n",
       "    </tr>\n",
       "  </thead>\n",
       "  <tbody>\n",
       "    <tr>\n",
       "      <td>0</td>\n",
       "      <td>2002</td>\n",
       "      <td>A.J. Burnett</td>\n",
       "      <td>Marlins</td>\n",
       "      <td>12</td>\n",
       "      <td>9</td>\n",
       "      <td>29</td>\n",
       "      <td>29</td>\n",
       "      <td>201.2</td>\n",
       "      <td>8.70</td>\n",
       "      <td>3.88</td>\n",
       "      <td>...</td>\n",
       "      <td>0.202</td>\n",
       "      <td>1.17</td>\n",
       "      <td>6.94</td>\n",
       "      <td>14.500000</td>\n",
       "      <td>0.753311</td>\n",
       "      <td>91.000000</td>\n",
       "      <td>27.750000</td>\n",
       "      <td>96.250000</td>\n",
       "      <td>100.000000</td>\n",
       "      <td>57.500000</td>\n",
       "    </tr>\n",
       "    <tr>\n",
       "      <td>1</td>\n",
       "      <td>2003</td>\n",
       "      <td>A.J. Burnett</td>\n",
       "      <td>Marlins</td>\n",
       "      <td>0</td>\n",
       "      <td>2</td>\n",
       "      <td>4</td>\n",
       "      <td>4</td>\n",
       "      <td>23.0</td>\n",
       "      <td>8.22</td>\n",
       "      <td>7.04</td>\n",
       "      <td>...</td>\n",
       "      <td>0.209</td>\n",
       "      <td>1.57</td>\n",
       "      <td>5.75</td>\n",
       "      <td>8.755760</td>\n",
       "      <td>0.772823</td>\n",
       "      <td>90.783410</td>\n",
       "      <td>3.686636</td>\n",
       "      <td>51.843318</td>\n",
       "      <td>97.004608</td>\n",
       "      <td>88.940092</td>\n",
       "    </tr>\n",
       "    <tr>\n",
       "      <td>2</td>\n",
       "      <td>2004</td>\n",
       "      <td>A.J. Burnett</td>\n",
       "      <td>Marlins</td>\n",
       "      <td>7</td>\n",
       "      <td>6</td>\n",
       "      <td>19</td>\n",
       "      <td>19</td>\n",
       "      <td>118.0</td>\n",
       "      <td>8.31</td>\n",
       "      <td>2.90</td>\n",
       "      <td>...</td>\n",
       "      <td>0.229</td>\n",
       "      <td>1.18</td>\n",
       "      <td>6.21</td>\n",
       "      <td>9.734513</td>\n",
       "      <td>0.812509</td>\n",
       "      <td>89.823009</td>\n",
       "      <td>63.716814</td>\n",
       "      <td>78.982301</td>\n",
       "      <td>100.000000</td>\n",
       "      <td>80.309735</td>\n",
       "    </tr>\n",
       "    <tr>\n",
       "      <td>3</td>\n",
       "      <td>2005</td>\n",
       "      <td>A.J. Burnett</td>\n",
       "      <td>Marlins</td>\n",
       "      <td>12</td>\n",
       "      <td>12</td>\n",
       "      <td>32</td>\n",
       "      <td>32</td>\n",
       "      <td>209.0</td>\n",
       "      <td>8.53</td>\n",
       "      <td>3.40</td>\n",
       "      <td>...</td>\n",
       "      <td>0.234</td>\n",
       "      <td>1.26</td>\n",
       "      <td>6.53</td>\n",
       "      <td>20.614035</td>\n",
       "      <td>0.885130</td>\n",
       "      <td>92.543860</td>\n",
       "      <td>37.280702</td>\n",
       "      <td>86.403509</td>\n",
       "      <td>99.122807</td>\n",
       "      <td>94.736842</td>\n",
       "    </tr>\n",
       "    <tr>\n",
       "      <td>4</td>\n",
       "      <td>2006</td>\n",
       "      <td>A.J. Burnett</td>\n",
       "      <td>Blue Jays</td>\n",
       "      <td>10</td>\n",
       "      <td>8</td>\n",
       "      <td>21</td>\n",
       "      <td>21</td>\n",
       "      <td>135.2</td>\n",
       "      <td>7.83</td>\n",
       "      <td>2.59</td>\n",
       "      <td>...</td>\n",
       "      <td>0.260</td>\n",
       "      <td>1.30</td>\n",
       "      <td>6.44</td>\n",
       "      <td>7.203390</td>\n",
       "      <td>0.759964</td>\n",
       "      <td>82.415254</td>\n",
       "      <td>73.305085</td>\n",
       "      <td>87.288136</td>\n",
       "      <td>98.728814</td>\n",
       "      <td>85.381356</td>\n",
       "    </tr>\n",
       "    <tr>\n",
       "      <td>...</td>\n",
       "      <td>...</td>\n",
       "      <td>...</td>\n",
       "      <td>...</td>\n",
       "      <td>...</td>\n",
       "      <td>...</td>\n",
       "      <td>...</td>\n",
       "      <td>...</td>\n",
       "      <td>...</td>\n",
       "      <td>...</td>\n",
       "      <td>...</td>\n",
       "      <td>...</td>\n",
       "      <td>...</td>\n",
       "      <td>...</td>\n",
       "      <td>...</td>\n",
       "      <td>...</td>\n",
       "      <td>...</td>\n",
       "      <td>...</td>\n",
       "      <td>...</td>\n",
       "      <td>...</td>\n",
       "      <td>...</td>\n",
       "      <td>...</td>\n",
       "    </tr>\n",
       "    <tr>\n",
       "      <td>3949</td>\n",
       "      <td>2013</td>\n",
       "      <td>Zack Wheeler</td>\n",
       "      <td>Mets</td>\n",
       "      <td>7</td>\n",
       "      <td>5</td>\n",
       "      <td>17</td>\n",
       "      <td>17</td>\n",
       "      <td>100.0</td>\n",
       "      <td>7.56</td>\n",
       "      <td>4.14</td>\n",
       "      <td>...</td>\n",
       "      <td>0.236</td>\n",
       "      <td>1.36</td>\n",
       "      <td>5.88</td>\n",
       "      <td>15.966387</td>\n",
       "      <td>0.876027</td>\n",
       "      <td>64.285714</td>\n",
       "      <td>14.705882</td>\n",
       "      <td>56.722689</td>\n",
       "      <td>92.226891</td>\n",
       "      <td>46.428571</td>\n",
       "    </tr>\n",
       "    <tr>\n",
       "      <td>3950</td>\n",
       "      <td>2014</td>\n",
       "      <td>Zack Wheeler</td>\n",
       "      <td>Mets</td>\n",
       "      <td>11</td>\n",
       "      <td>11</td>\n",
       "      <td>32</td>\n",
       "      <td>32</td>\n",
       "      <td>185.1</td>\n",
       "      <td>9.08</td>\n",
       "      <td>3.84</td>\n",
       "      <td>...</td>\n",
       "      <td>0.237</td>\n",
       "      <td>1.33</td>\n",
       "      <td>5.78</td>\n",
       "      <td>50.643777</td>\n",
       "      <td>1.061401</td>\n",
       "      <td>86.695279</td>\n",
       "      <td>18.884120</td>\n",
       "      <td>47.854077</td>\n",
       "      <td>96.566524</td>\n",
       "      <td>91.845494</td>\n",
       "    </tr>\n",
       "    <tr>\n",
       "      <td>3951</td>\n",
       "      <td>2017</td>\n",
       "      <td>Zack Wheeler</td>\n",
       "      <td>Mets</td>\n",
       "      <td>3</td>\n",
       "      <td>7</td>\n",
       "      <td>17</td>\n",
       "      <td>17</td>\n",
       "      <td>86.1</td>\n",
       "      <td>8.44</td>\n",
       "      <td>4.17</td>\n",
       "      <td>...</td>\n",
       "      <td>0.283</td>\n",
       "      <td>1.59</td>\n",
       "      <td>5.06</td>\n",
       "      <td>37.313433</td>\n",
       "      <td>1.032493</td>\n",
       "      <td>67.164179</td>\n",
       "      <td>14.925373</td>\n",
       "      <td>27.114428</td>\n",
       "      <td>87.810945</td>\n",
       "      <td>71.890547</td>\n",
       "    </tr>\n",
       "    <tr>\n",
       "      <td>3952</td>\n",
       "      <td>2018</td>\n",
       "      <td>Zack Wheeler</td>\n",
       "      <td>Mets</td>\n",
       "      <td>12</td>\n",
       "      <td>7</td>\n",
       "      <td>29</td>\n",
       "      <td>29</td>\n",
       "      <td>182.1</td>\n",
       "      <td>8.84</td>\n",
       "      <td>2.71</td>\n",
       "      <td>...</td>\n",
       "      <td>0.221</td>\n",
       "      <td>1.12</td>\n",
       "      <td>6.28</td>\n",
       "      <td>68.208092</td>\n",
       "      <td>1.200651</td>\n",
       "      <td>67.052023</td>\n",
       "      <td>59.537572</td>\n",
       "      <td>96.242775</td>\n",
       "      <td>95.086705</td>\n",
       "      <td>55.491329</td>\n",
       "    </tr>\n",
       "    <tr>\n",
       "      <td>3953</td>\n",
       "      <td>2019</td>\n",
       "      <td>Zack Wheeler</td>\n",
       "      <td>Mets</td>\n",
       "      <td>11</td>\n",
       "      <td>8</td>\n",
       "      <td>31</td>\n",
       "      <td>31</td>\n",
       "      <td>195.1</td>\n",
       "      <td>8.98</td>\n",
       "      <td>2.30</td>\n",
       "      <td>...</td>\n",
       "      <td>0.253</td>\n",
       "      <td>1.26</td>\n",
       "      <td>6.29</td>\n",
       "      <td>56.962025</td>\n",
       "      <td>1.162648</td>\n",
       "      <td>59.493671</td>\n",
       "      <td>74.683544</td>\n",
       "      <td>94.303797</td>\n",
       "      <td>96.835443</td>\n",
       "      <td>58.227848</td>\n",
       "    </tr>\n",
       "  </tbody>\n",
       "</table>\n",
       "<p>3954 rows × 41 columns</p>\n",
       "</div>"
      ],
      "text/plain": [
       "      Season          Name       Team   W   L   G  GS     IP   K/9  BB/9  ...  \\\n",
       "0       2002  A.J. Burnett    Marlins  12   9  29  29  201.2  8.70  3.88  ...   \n",
       "1       2003  A.J. Burnett    Marlins   0   2   4   4   23.0  8.22  7.04  ...   \n",
       "2       2004  A.J. Burnett    Marlins   7   6  19  19  118.0  8.31  2.90  ...   \n",
       "3       2005  A.J. Burnett    Marlins  12  12  32  32  209.0  8.53  3.40  ...   \n",
       "4       2006  A.J. Burnett  Blue Jays  10   8  21  21  135.2  7.83  2.59  ...   \n",
       "...      ...           ...        ...  ..  ..  ..  ..    ...   ...   ...  ...   \n",
       "3949    2013  Zack Wheeler       Mets   7   5  17  17  100.0  7.56  4.14  ...   \n",
       "3950    2014  Zack Wheeler       Mets  11  11  32  32  185.1  9.08  3.84  ...   \n",
       "3951    2017  Zack Wheeler       Mets   3   7  17  17   86.1  8.44  4.17  ...   \n",
       "3952    2018  Zack Wheeler       Mets  12   7  29  29  182.1  8.84  2.71  ...   \n",
       "3953    2019  Zack Wheeler       Mets  11   8  31  31  195.1  8.98  2.30  ...   \n",
       "\n",
       "        AVG  WHIP  IP/G  Pitch Diversity  Shannon Diversity  Strikeouts  \\\n",
       "0     0.202  1.17  6.94        14.500000           0.753311   91.000000   \n",
       "1     0.209  1.57  5.75         8.755760           0.772823   90.783410   \n",
       "2     0.229  1.18  6.21         9.734513           0.812509   89.823009   \n",
       "3     0.234  1.26  6.53        20.614035           0.885130   92.543860   \n",
       "4     0.260  1.30  6.44         7.203390           0.759964   82.415254   \n",
       "...     ...   ...   ...              ...                ...         ...   \n",
       "3949  0.236  1.36  5.88        15.966387           0.876027   64.285714   \n",
       "3950  0.237  1.33  5.78        50.643777           1.061401   86.695279   \n",
       "3951  0.283  1.59  5.06        37.313433           1.032493   67.164179   \n",
       "3952  0.221  1.12  6.28        68.208092           1.200651   67.052023   \n",
       "3953  0.253  1.26  6.29        56.962025           1.162648   59.493671   \n",
       "\n",
       "        Control  Stamina/Consistency    Velocity  Ground Balls  \n",
       "0     27.750000            96.250000  100.000000     57.500000  \n",
       "1      3.686636            51.843318   97.004608     88.940092  \n",
       "2     63.716814            78.982301  100.000000     80.309735  \n",
       "3     37.280702            86.403509   99.122807     94.736842  \n",
       "4     73.305085            87.288136   98.728814     85.381356  \n",
       "...         ...                  ...         ...           ...  \n",
       "3949  14.705882            56.722689   92.226891     46.428571  \n",
       "3950  18.884120            47.854077   96.566524     91.845494  \n",
       "3951  14.925373            27.114428   87.810945     71.890547  \n",
       "3952  59.537572            96.242775   95.086705     55.491329  \n",
       "3953  74.683544            94.303797   96.835443     58.227848  \n",
       "\n",
       "[3954 rows x 41 columns]"
      ]
     },
     "execution_count": 7,
     "metadata": {},
     "output_type": "execute_result"
    }
   ],
   "source": [
    "df"
   ]
  },
  {
   "cell_type": "code",
   "execution_count": 17,
   "metadata": {},
   "outputs": [],
   "source": []
  },
  {
   "cell_type": "code",
   "execution_count": 18,
   "metadata": {
    "scrolled": true
   },
   "outputs": [
    {
     "data": {
      "text/html": [
       "<div>\n",
       "<style scoped>\n",
       "    .dataframe tbody tr th:only-of-type {\n",
       "        vertical-align: middle;\n",
       "    }\n",
       "\n",
       "    .dataframe tbody tr th {\n",
       "        vertical-align: top;\n",
       "    }\n",
       "\n",
       "    .dataframe thead th {\n",
       "        text-align: right;\n",
       "    }\n",
       "</style>\n",
       "<table border=\"1\" class=\"dataframe\">\n",
       "  <thead>\n",
       "    <tr style=\"text-align: right;\">\n",
       "      <th></th>\n",
       "      <th>Pitch Diversity</th>\n",
       "      <th>Strikeouts</th>\n",
       "      <th>Control</th>\n",
       "      <th>Stamina/Consistency</th>\n",
       "      <th>Velocity</th>\n",
       "      <th>Ground Balls</th>\n",
       "      <th>performance</th>\n",
       "    </tr>\n",
       "  </thead>\n",
       "  <tbody>\n",
       "    <tr>\n",
       "      <td>0</td>\n",
       "      <td>14.500000</td>\n",
       "      <td>91.000000</td>\n",
       "      <td>27.750000</td>\n",
       "      <td>96.250000</td>\n",
       "      <td>100.000000</td>\n",
       "      <td>57.500000</td>\n",
       "      <td>387.000000</td>\n",
       "    </tr>\n",
       "    <tr>\n",
       "      <td>1</td>\n",
       "      <td>8.755760</td>\n",
       "      <td>90.783410</td>\n",
       "      <td>3.686636</td>\n",
       "      <td>51.843318</td>\n",
       "      <td>97.004608</td>\n",
       "      <td>88.940092</td>\n",
       "      <td>341.013825</td>\n",
       "    </tr>\n",
       "    <tr>\n",
       "      <td>2</td>\n",
       "      <td>9.734513</td>\n",
       "      <td>89.823009</td>\n",
       "      <td>63.716814</td>\n",
       "      <td>78.982301</td>\n",
       "      <td>100.000000</td>\n",
       "      <td>80.309735</td>\n",
       "      <td>422.566372</td>\n",
       "    </tr>\n",
       "    <tr>\n",
       "      <td>3</td>\n",
       "      <td>20.614035</td>\n",
       "      <td>92.543860</td>\n",
       "      <td>37.280702</td>\n",
       "      <td>86.403509</td>\n",
       "      <td>99.122807</td>\n",
       "      <td>94.736842</td>\n",
       "      <td>430.701754</td>\n",
       "    </tr>\n",
       "    <tr>\n",
       "      <td>4</td>\n",
       "      <td>7.203390</td>\n",
       "      <td>82.415254</td>\n",
       "      <td>73.305085</td>\n",
       "      <td>87.288136</td>\n",
       "      <td>98.728814</td>\n",
       "      <td>85.381356</td>\n",
       "      <td>434.322034</td>\n",
       "    </tr>\n",
       "    <tr>\n",
       "      <td>...</td>\n",
       "      <td>...</td>\n",
       "      <td>...</td>\n",
       "      <td>...</td>\n",
       "      <td>...</td>\n",
       "      <td>...</td>\n",
       "      <td>...</td>\n",
       "      <td>...</td>\n",
       "    </tr>\n",
       "    <tr>\n",
       "      <td>3949</td>\n",
       "      <td>15.966387</td>\n",
       "      <td>64.285714</td>\n",
       "      <td>14.705882</td>\n",
       "      <td>56.722689</td>\n",
       "      <td>92.226891</td>\n",
       "      <td>46.428571</td>\n",
       "      <td>290.336134</td>\n",
       "    </tr>\n",
       "    <tr>\n",
       "      <td>3950</td>\n",
       "      <td>50.643777</td>\n",
       "      <td>86.695279</td>\n",
       "      <td>18.884120</td>\n",
       "      <td>47.854077</td>\n",
       "      <td>96.566524</td>\n",
       "      <td>91.845494</td>\n",
       "      <td>392.489270</td>\n",
       "    </tr>\n",
       "    <tr>\n",
       "      <td>3951</td>\n",
       "      <td>37.313433</td>\n",
       "      <td>67.164179</td>\n",
       "      <td>14.925373</td>\n",
       "      <td>27.114428</td>\n",
       "      <td>87.810945</td>\n",
       "      <td>71.890547</td>\n",
       "      <td>306.218905</td>\n",
       "    </tr>\n",
       "    <tr>\n",
       "      <td>3952</td>\n",
       "      <td>68.208092</td>\n",
       "      <td>67.052023</td>\n",
       "      <td>59.537572</td>\n",
       "      <td>96.242775</td>\n",
       "      <td>95.086705</td>\n",
       "      <td>55.491329</td>\n",
       "      <td>441.618497</td>\n",
       "    </tr>\n",
       "    <tr>\n",
       "      <td>3953</td>\n",
       "      <td>56.962025</td>\n",
       "      <td>59.493671</td>\n",
       "      <td>74.683544</td>\n",
       "      <td>94.303797</td>\n",
       "      <td>96.835443</td>\n",
       "      <td>58.227848</td>\n",
       "      <td>440.506329</td>\n",
       "    </tr>\n",
       "  </tbody>\n",
       "</table>\n",
       "<p>3954 rows × 7 columns</p>\n",
       "</div>"
      ],
      "text/plain": [
       "      Pitch Diversity  Strikeouts    Control  Stamina/Consistency    Velocity  \\\n",
       "0           14.500000   91.000000  27.750000            96.250000  100.000000   \n",
       "1            8.755760   90.783410   3.686636            51.843318   97.004608   \n",
       "2            9.734513   89.823009  63.716814            78.982301  100.000000   \n",
       "3           20.614035   92.543860  37.280702            86.403509   99.122807   \n",
       "4            7.203390   82.415254  73.305085            87.288136   98.728814   \n",
       "...               ...         ...        ...                  ...         ...   \n",
       "3949        15.966387   64.285714  14.705882            56.722689   92.226891   \n",
       "3950        50.643777   86.695279  18.884120            47.854077   96.566524   \n",
       "3951        37.313433   67.164179  14.925373            27.114428   87.810945   \n",
       "3952        68.208092   67.052023  59.537572            96.242775   95.086705   \n",
       "3953        56.962025   59.493671  74.683544            94.303797   96.835443   \n",
       "\n",
       "      Ground Balls  performance  \n",
       "0        57.500000   387.000000  \n",
       "1        88.940092   341.013825  \n",
       "2        80.309735   422.566372  \n",
       "3        94.736842   430.701754  \n",
       "4        85.381356   434.322034  \n",
       "...            ...          ...  \n",
       "3949     46.428571   290.336134  \n",
       "3950     91.845494   392.489270  \n",
       "3951     71.890547   306.218905  \n",
       "3952     55.491329   441.618497  \n",
       "3953     58.227848   440.506329  \n",
       "\n",
       "[3954 rows x 7 columns]"
      ]
     },
     "execution_count": 18,
     "metadata": {},
     "output_type": "execute_result"
    }
   ],
   "source": [
    "metrics = df.loc[:,'Pitch Diversity':'Ground Balls']\n",
    "metrics.drop(['Shannon Diversity'], axis=1, inplace=True)\n",
    "metrics['performance'] = metrics.sum(axis=1)\n",
    "metrics"
   ]
  },
  {
   "cell_type": "code",
   "execution_count": 19,
   "metadata": {},
   "outputs": [],
   "source": [
    "df['performance'] = metrics['performance']"
   ]
  },
  {
   "cell_type": "code",
   "execution_count": 23,
   "metadata": {},
   "outputs": [
    {
     "data": {
      "text/html": [
       "<div>\n",
       "<style scoped>\n",
       "    .dataframe tbody tr th:only-of-type {\n",
       "        vertical-align: middle;\n",
       "    }\n",
       "\n",
       "    .dataframe tbody tr th {\n",
       "        vertical-align: top;\n",
       "    }\n",
       "\n",
       "    .dataframe thead th {\n",
       "        text-align: right;\n",
       "    }\n",
       "</style>\n",
       "<table border=\"1\" class=\"dataframe\">\n",
       "  <thead>\n",
       "    <tr style=\"text-align: right;\">\n",
       "      <th></th>\n",
       "      <th>Season</th>\n",
       "      <th>Name</th>\n",
       "      <th>Team</th>\n",
       "      <th>W</th>\n",
       "      <th>L</th>\n",
       "      <th>G</th>\n",
       "      <th>GS</th>\n",
       "      <th>IP</th>\n",
       "      <th>K/9</th>\n",
       "      <th>BB/9</th>\n",
       "      <th>...</th>\n",
       "      <th>WHIP</th>\n",
       "      <th>IP/G</th>\n",
       "      <th>Pitch Diversity</th>\n",
       "      <th>Shannon Diversity</th>\n",
       "      <th>Strikeouts</th>\n",
       "      <th>Control</th>\n",
       "      <th>Stamina/Consistency</th>\n",
       "      <th>Velocity</th>\n",
       "      <th>Ground Balls</th>\n",
       "      <th>performance</th>\n",
       "    </tr>\n",
       "  </thead>\n",
       "  <tbody>\n",
       "    <tr>\n",
       "      <td>851</td>\n",
       "      <td>2002</td>\n",
       "      <td>Curt Schilling</td>\n",
       "      <td>Diamondbacks</td>\n",
       "      <td>23</td>\n",
       "      <td>7</td>\n",
       "      <td>35</td>\n",
       "      <td>35</td>\n",
       "      <td>258.1</td>\n",
       "      <td>10.97</td>\n",
       "      <td>1.15</td>\n",
       "      <td>...</td>\n",
       "      <td>0.96</td>\n",
       "      <td>7.37</td>\n",
       "      <td>96.5</td>\n",
       "      <td>1.218695</td>\n",
       "      <td>99.0</td>\n",
       "      <td>98.5</td>\n",
       "      <td>99.5</td>\n",
       "      <td>95.75</td>\n",
       "      <td>47.5</td>\n",
       "      <td>536.75</td>\n",
       "    </tr>\n",
       "  </tbody>\n",
       "</table>\n",
       "<p>1 rows × 42 columns</p>\n",
       "</div>"
      ],
      "text/plain": [
       "     Season            Name          Team   W  L   G  GS     IP    K/9  BB/9  \\\n",
       "851    2002  Curt Schilling  Diamondbacks  23  7  35  35  258.1  10.97  1.15   \n",
       "\n",
       "     ...  WHIP  IP/G  Pitch Diversity  Shannon Diversity  Strikeouts  Control  \\\n",
       "851  ...  0.96  7.37             96.5           1.218695        99.0     98.5   \n",
       "\n",
       "     Stamina/Consistency  Velocity  Ground Balls  performance  \n",
       "851                 99.5     95.75          47.5       536.75  \n",
       "\n",
       "[1 rows x 42 columns]"
      ]
     },
     "execution_count": 23,
     "metadata": {},
     "output_type": "execute_result"
    }
   ],
   "source": [
    "df[df['performance'] == df['performance'].max()]"
   ]
  },
  {
   "cell_type": "code",
   "execution_count": 43,
   "metadata": {},
   "outputs": [
    {
     "data": {
      "text/plain": [
       "([<matplotlib.axis.XTick at 0x1ef76471748>,\n",
       "  <matplotlib.axis.XTick at 0x1ef7646a288>,\n",
       "  <matplotlib.axis.XTick at 0x1ef7646df08>,\n",
       "  <matplotlib.axis.XTick at 0x1ef764ab548>,\n",
       "  <matplotlib.axis.XTick at 0x1ef764abc08>,\n",
       "  <matplotlib.axis.XTick at 0x1ef764ad408>,\n",
       "  <matplotlib.axis.XTick at 0x1ef764adc08>,\n",
       "  <matplotlib.axis.XTick at 0x1ef764ab6c8>,\n",
       "  <matplotlib.axis.XTick at 0x1ef764b24c8>,\n",
       "  <matplotlib.axis.XTick at 0x1ef764b7648>,\n",
       "  <matplotlib.axis.XTick at 0x1ef764ba188>,\n",
       "  <matplotlib.axis.XTick at 0x1ef764babc8>],\n",
       " <a list of 12 Text xticklabel objects>)"
      ]
     },
     "execution_count": 43,
     "metadata": {},
     "output_type": "execute_result"
    },
    {
     "data": {
      "image/png": "[encoded data removed]",
      "text/plain": [
       "<Figure size 432x288 with 1 Axes>"
      ]
     },
     "metadata": {
      "needs_background": "light"
     },
     "output_type": "display_data"
    }
   ],
   "source": [
    "kershaw = df[df['Name'] == 'Clayton Kershaw']\n",
    "plt.plot(kershaw['Age'], kershaw['performance'])\n",
    "plt.xticks(np.arange(kershaw['Age'].min(), kershaw['Age'].max()+1,1))"
   ]
  },
  {
   "cell_type": "code",
   "execution_count": 44,
   "metadata": {},
   "outputs": [
    {
     "name": "stderr",
     "output_type": "stream",
     "text": [
      "C:\\ProgramData\\Anaconda\\lib\\site-packages\\ipykernel_launcher.py:1: SettingWithCopyWarning: \n",
      "A value is trying to be set on a copy of a slice from a DataFrame.\n",
      "Try using .loc[row_indexer,col_indexer] = value instead\n",
      "\n",
      "See the caveats in the documentation: http://pandas.pydata.org/pandas-docs/stable/user_guide/indexing.html#returning-a-view-versus-a-copy\n",
      "  \"\"\"Entry point for launching an IPython kernel.\n"
     ]
    }
   ],
   "source": [
    "kershaw['delta'] = kershaw['performance'].pct_change()"
   ]
  },
  {
   "cell_type": "code",
   "execution_count": 45,
   "metadata": {},
   "outputs": [
    {
     "data": {
      "text/plain": [
       "771         NaN\n",
       "772   -0.003544\n",
       "773    0.030630\n",
       "774    0.346733\n",
       "775   -0.008060\n",
       "776    0.022187\n",
       "777    0.139960\n",
       "778   -0.012770\n",
       "779   -0.033800\n",
       "780   -0.010763\n",
       "781   -0.161261\n",
       "782   -0.015517\n",
       "Name: delta, dtype: float64"
      ]
     },
     "execution_count": 45,
     "metadata": {},
     "output_type": "execute_result"
    }
   ],
   "source": [
    "kershaw['delta']"
   ]
  },
  {
   "cell_type": "code",
   "execution_count": 81,
   "metadata": {
    "scrolled": false
   },
   "outputs": [
    {
     "data": {
      "text/plain": [
       "([<matplotlib.axis.XTick at 0x1ef7686fec8>,\n",
       "  <matplotlib.axis.XTick at 0x1ef77bcbdc8>,\n",
       "  <matplotlib.axis.XTick at 0x1ef77bcb9c8>,\n",
       "  <matplotlib.axis.XTick at 0x1ef77bf5208>,\n",
       "  <matplotlib.axis.XTick at 0x1ef77bf58c8>,\n",
       "  <matplotlib.axis.XTick at 0x1ef77bfa208>,\n",
       "  <matplotlib.axis.XTick at 0x1ef77bfad88>],\n",
       " <a list of 7 Text xticklabel objects>)"
      ]
     },
     "execution_count": 81,
     "metadata": {},
     "output_type": "execute_result"
    },
    {
     "data": {
      "image/png": "[encoded data removed]",
      "text/plain": [
       "<Figure size 432x288 with 1 Axes>"
      ]
     },
     "metadata": {
      "needs_background": "light"
     },
     "output_type": "display_data"
    }
   ],
   "source": [
    "ver = df[df['Name'] == 'Gerrit Cole']\n",
    "ver.reset_index(drop = True, inplace = True)\n",
    "plt.plot(ver['Age'], ver['performance'])\n",
    "plt.xticks(np.arange(ver['Age'].min(), ver['Age'].max()+1,1))"
   ]
  },
  {
   "cell_type": "code",
   "execution_count": 87,
   "metadata": {},
   "outputs": [
    {
     "data": {
      "text/plain": [
       "[<matplotlib.lines.Line2D at 0x1ef77c4fe08>]"
      ]
     },
     "execution_count": 87,
     "metadata": {},
     "output_type": "execute_result"
    },
    {
     "data": {
      "image/png": "[encoded data removed]",
      "text/plain": [
       "<Figure size 432x288 with 1 Axes>"
      ]
     },
     "metadata": {
      "needs_background": "light"
     },
     "output_type": "display_data"
    }
   ],
   "source": [
    "plt.plot(ver['Age'], ver['WAR'])"
   ]
  },
  {
   "cell_type": "code",
   "execution_count": 67,
   "metadata": {},
   "outputs": [
    {
     "data": {
      "text/html": [
       "<div>\n",
       "<style scoped>\n",
       "    .dataframe tbody tr th:only-of-type {\n",
       "        vertical-align: middle;\n",
       "    }\n",
       "\n",
       "    .dataframe tbody tr th {\n",
       "        vertical-align: top;\n",
       "    }\n",
       "\n",
       "    .dataframe thead th {\n",
       "        text-align: right;\n",
       "    }\n",
       "</style>\n",
       "<table border=\"1\" class=\"dataframe\">\n",
       "  <thead>\n",
       "    <tr style=\"text-align: right;\">\n",
       "      <th></th>\n",
       "      <th>Season</th>\n",
       "      <th>Name</th>\n",
       "      <th>Team</th>\n",
       "      <th>W</th>\n",
       "      <th>L</th>\n",
       "      <th>G</th>\n",
       "      <th>GS</th>\n",
       "      <th>IP</th>\n",
       "      <th>K/9</th>\n",
       "      <th>BB/9</th>\n",
       "      <th>...</th>\n",
       "      <th>WHIP</th>\n",
       "      <th>IP/G</th>\n",
       "      <th>Pitch Diversity</th>\n",
       "      <th>Shannon Diversity</th>\n",
       "      <th>Strikeouts</th>\n",
       "      <th>Control</th>\n",
       "      <th>Stamina/Consistency</th>\n",
       "      <th>Velocity</th>\n",
       "      <th>Ground Balls</th>\n",
       "      <th>performance</th>\n",
       "    </tr>\n",
       "  </thead>\n",
       "  <tbody>\n",
       "    <tr>\n",
       "      <td>1512</td>\n",
       "      <td>2014</td>\n",
       "      <td>Jacob deGrom</td>\n",
       "      <td>Mets</td>\n",
       "      <td>9</td>\n",
       "      <td>6</td>\n",
       "      <td>22</td>\n",
       "      <td>22</td>\n",
       "      <td>140.1</td>\n",
       "      <td>9.24</td>\n",
       "      <td>2.76</td>\n",
       "      <td>...</td>\n",
       "      <td>1.14</td>\n",
       "      <td>6.37</td>\n",
       "      <td>54.077253</td>\n",
       "      <td>1.080769</td>\n",
       "      <td>88.841202</td>\n",
       "      <td>52.360515</td>\n",
       "      <td>84.120172</td>\n",
       "      <td>87.768240</td>\n",
       "      <td>58.798283</td>\n",
       "      <td>425.965665</td>\n",
       "    </tr>\n",
       "    <tr>\n",
       "      <td>1513</td>\n",
       "      <td>2015</td>\n",
       "      <td>Jacob deGrom</td>\n",
       "      <td>Mets</td>\n",
       "      <td>14</td>\n",
       "      <td>8</td>\n",
       "      <td>30</td>\n",
       "      <td>30</td>\n",
       "      <td>191.0</td>\n",
       "      <td>9.66</td>\n",
       "      <td>1.79</td>\n",
       "      <td>...</td>\n",
       "      <td>0.98</td>\n",
       "      <td>6.37</td>\n",
       "      <td>54.468085</td>\n",
       "      <td>1.076269</td>\n",
       "      <td>91.914894</td>\n",
       "      <td>89.787234</td>\n",
       "      <td>86.808511</td>\n",
       "      <td>93.617021</td>\n",
       "      <td>47.446809</td>\n",
       "      <td>464.042553</td>\n",
       "    </tr>\n",
       "    <tr>\n",
       "      <td>1514</td>\n",
       "      <td>2016</td>\n",
       "      <td>Jacob deGrom</td>\n",
       "      <td>Mets</td>\n",
       "      <td>7</td>\n",
       "      <td>8</td>\n",
       "      <td>24</td>\n",
       "      <td>24</td>\n",
       "      <td>148.0</td>\n",
       "      <td>8.70</td>\n",
       "      <td>2.19</td>\n",
       "      <td>...</td>\n",
       "      <td>1.20</td>\n",
       "      <td>6.17</td>\n",
       "      <td>60.869565</td>\n",
       "      <td>1.105460</td>\n",
       "      <td>74.565217</td>\n",
       "      <td>80.217391</td>\n",
       "      <td>87.826087</td>\n",
       "      <td>78.695652</td>\n",
       "      <td>57.608696</td>\n",
       "      <td>439.782609</td>\n",
       "    </tr>\n",
       "    <tr>\n",
       "      <td>1515</td>\n",
       "      <td>2017</td>\n",
       "      <td>Jacob deGrom</td>\n",
       "      <td>Mets</td>\n",
       "      <td>15</td>\n",
       "      <td>10</td>\n",
       "      <td>31</td>\n",
       "      <td>31</td>\n",
       "      <td>201.1</td>\n",
       "      <td>10.68</td>\n",
       "      <td>2.64</td>\n",
       "      <td>...</td>\n",
       "      <td>1.19</td>\n",
       "      <td>6.49</td>\n",
       "      <td>62.686567</td>\n",
       "      <td>1.146249</td>\n",
       "      <td>93.532338</td>\n",
       "      <td>71.393035</td>\n",
       "      <td>98.507463</td>\n",
       "      <td>92.786070</td>\n",
       "      <td>60.696517</td>\n",
       "      <td>479.601990</td>\n",
       "    </tr>\n",
       "    <tr>\n",
       "      <td>1516</td>\n",
       "      <td>2018</td>\n",
       "      <td>Jacob deGrom</td>\n",
       "      <td>Mets</td>\n",
       "      <td>10</td>\n",
       "      <td>9</td>\n",
       "      <td>32</td>\n",
       "      <td>32</td>\n",
       "      <td>217.0</td>\n",
       "      <td>11.16</td>\n",
       "      <td>1.91</td>\n",
       "      <td>...</td>\n",
       "      <td>0.91</td>\n",
       "      <td>6.78</td>\n",
       "      <td>60.693642</td>\n",
       "      <td>1.176342</td>\n",
       "      <td>94.797688</td>\n",
       "      <td>84.971098</td>\n",
       "      <td>100.000000</td>\n",
       "      <td>96.242775</td>\n",
       "      <td>69.653179</td>\n",
       "      <td>506.358382</td>\n",
       "    </tr>\n",
       "    <tr>\n",
       "      <td>1517</td>\n",
       "      <td>2019</td>\n",
       "      <td>Jacob deGrom</td>\n",
       "      <td>Mets</td>\n",
       "      <td>11</td>\n",
       "      <td>8</td>\n",
       "      <td>32</td>\n",
       "      <td>32</td>\n",
       "      <td>204.0</td>\n",
       "      <td>11.25</td>\n",
       "      <td>1.94</td>\n",
       "      <td>...</td>\n",
       "      <td>0.97</td>\n",
       "      <td>6.38</td>\n",
       "      <td>45.569620</td>\n",
       "      <td>1.110375</td>\n",
       "      <td>89.556962</td>\n",
       "      <td>84.810127</td>\n",
       "      <td>98.101266</td>\n",
       "      <td>97.468354</td>\n",
       "      <td>64.873418</td>\n",
       "      <td>480.379747</td>\n",
       "    </tr>\n",
       "  </tbody>\n",
       "</table>\n",
       "<p>6 rows × 42 columns</p>\n",
       "</div>"
      ],
      "text/plain": [
       "      Season          Name  Team   W   L   G  GS     IP    K/9  BB/9  ...  \\\n",
       "1512    2014  Jacob deGrom  Mets   9   6  22  22  140.1   9.24  2.76  ...   \n",
       "1513    2015  Jacob deGrom  Mets  14   8  30  30  191.0   9.66  1.79  ...   \n",
       "1514    2016  Jacob deGrom  Mets   7   8  24  24  148.0   8.70  2.19  ...   \n",
       "1515    2017  Jacob deGrom  Mets  15  10  31  31  201.1  10.68  2.64  ...   \n",
       "1516    2018  Jacob deGrom  Mets  10   9  32  32  217.0  11.16  1.91  ...   \n",
       "1517    2019  Jacob deGrom  Mets  11   8  32  32  204.0  11.25  1.94  ...   \n",
       "\n",
       "      WHIP  IP/G  Pitch Diversity  Shannon Diversity  Strikeouts    Control  \\\n",
       "1512  1.14  6.37        54.077253           1.080769   88.841202  52.360515   \n",
       "1513  0.98  6.37        54.468085           1.076269   91.914894  89.787234   \n",
       "1514  1.20  6.17        60.869565           1.105460   74.565217  80.217391   \n",
       "1515  1.19  6.49        62.686567           1.146249   93.532338  71.393035   \n",
       "1516  0.91  6.78        60.693642           1.176342   94.797688  84.971098   \n",
       "1517  0.97  6.38        45.569620           1.110375   89.556962  84.810127   \n",
       "\n",
       "      Stamina/Consistency   Velocity  Ground Balls  performance  \n",
       "1512            84.120172  87.768240     58.798283   425.965665  \n",
       "1513            86.808511  93.617021     47.446809   464.042553  \n",
       "1514            87.826087  78.695652     57.608696   439.782609  \n",
       "1515            98.507463  92.786070     60.696517   479.601990  \n",
       "1516           100.000000  96.242775     69.653179   506.358382  \n",
       "1517            98.101266  97.468354     64.873418   480.379747  \n",
       "\n",
       "[6 rows x 42 columns]"
      ]
     },
     "execution_count": 67,
     "metadata": {},
     "output_type": "execute_result"
    }
   ],
   "source": [
    "df[df['Name'] == 'Jacob deGrom']"
   ]
  },
  {
   "cell_type": "code",
   "execution_count": 53,
   "metadata": {},
   "outputs": [
    {
     "data": {
      "text/plain": [
       "1541    40.697674\n",
       "1542    60.585586\n",
       "1543    40.425532\n",
       "1544    32.142857\n",
       "1545    74.892704\n",
       "1546    92.340426\n",
       "1547    88.043478\n",
       "1548    58.706468\n",
       "1549    91.329480\n",
       "1550    90.822785\n",
       "Name: Ground Balls, dtype: float64"
      ]
     },
     "execution_count": 53,
     "metadata": {},
     "output_type": "execute_result"
    }
   ],
   "source": [
    "ver['Ground Balls']"
   ]
  },
  {
   "cell_type": "code",
   "execution_count": 82,
   "metadata": {
    "scrolled": true
   },
   "outputs": [
    {
     "name": "stderr",
     "output_type": "stream",
     "text": [
      "C:\\ProgramData\\Anaconda\\lib\\site-packages\\ipykernel_launcher.py:1: SettingWithCopyWarning: \n",
      "A value is trying to be set on a copy of a slice from a DataFrame.\n",
      "Try using .loc[row_indexer,col_indexer] = value instead\n",
      "\n",
      "See the caveats in the documentation: http://pandas.pydata.org/pandas-docs/stable/user_guide/indexing.html#returning-a-view-versus-a-copy\n",
      "  \"\"\"Entry point for launching an IPython kernel.\n"
     ]
    },
    {
     "data": {
      "text/plain": [
       "0         NaN\n",
       "1   -0.013901\n",
       "2    0.056587\n",
       "3   -0.235390\n",
       "4    0.341393\n",
       "5   -0.105545\n",
       "6    0.151028\n",
       "Name: delta, dtype: float64"
      ]
     },
     "execution_count": 82,
     "metadata": {},
     "output_type": "execute_result"
    }
   ],
   "source": [
    "ver['delta'] = ver['performance'].pct_change()\n",
    "ver['delta']"
   ]
  },
  {
   "cell_type": "code",
   "execution_count": 86,
   "metadata": {
    "scrolled": true
   },
   "outputs": [
    {
     "data": {
      "text/plain": [
       "[28]"
      ]
     },
     "execution_count": 86,
     "metadata": {},
     "output_type": "execute_result"
    }
   ],
   "source": [
    "prime = []\n",
    "for i in range(len(ver)):\n",
    "    if ver.loc[i, 'performance'] == ver['performance'].max():\n",
    "        prime.append(ver.loc[i, 'Age'])\n",
    "        for j in range(1, len(ver) - i):\n",
    "            if ver.loc[i+j, 'delta'] > -0.1:\n",
    "                prime.append(ver.loc[i+j, 'Age'])\n",
    "            elif ver.loc[i+j, 'delta'] <= -0.1:\n",
    "                break\n",
    "\n",
    "prime"
   ]
  },
  {
   "cell_type": "code",
   "execution_count": 20,
   "metadata": {},
   "outputs": [
    {
     "data": {
      "text/plain": [
       "<matplotlib.collections.PathCollection at 0x1ef74efe608>"
      ]
     },
     "execution_count": 20,
     "metadata": {},
     "output_type": "execute_result"
    },
    {
     "data": {
      "image/png": "[encoded data removed]",
      "text/plain": [
       "<Figure size 432x288 with 1 Axes>"
      ]
     },
     "metadata": {
      "needs_background": "light"
     },
     "output_type": "display_data"
    }
   ],
   "source": [
    "plt.scatter(df['Age'], df['performance'])"
   ]
  },
  {
   "cell_type": "code",
   "execution_count": 4,
   "metadata": {},
   "outputs": [
    {
     "data": {
      "text/plain": [
       "Velocity              -0.384575\n",
       "FBv                   -0.365200\n",
       "FB%                   -0.303972\n",
       "Strikeouts            -0.135317\n",
       "K/9                   -0.082715\n",
       "BB/9                  -0.074259\n",
       "CB%                   -0.036080\n",
       "LD%                   -0.021991\n",
       "Ground Balls          -0.010594\n",
       "LOB%                  -0.007990\n",
       "GB%                   -0.005308\n",
       "BA Against            -0.000600\n",
       "BABIP                  0.000543\n",
       "WHIP                   0.004807\n",
       "CH%                    0.007108\n",
       "FlyBall%               0.016098\n",
       "ERA                    0.026444\n",
       "IP/G                   0.038873\n",
       "WAR                    0.041024\n",
       "xFIP                   0.041243\n",
       "SL%                    0.043248\n",
       "HR/FB                  0.043476\n",
       "FIP                    0.048631\n",
       "AVG                    0.058898\n",
       "HR/9                   0.068428\n",
       "Season                 0.075860\n",
       "HBP                    0.078283\n",
       "Stamina/Consistency    0.082931\n",
       "W                      0.118083\n",
       "CT%                    0.123475\n",
       "L                      0.129320\n",
       "IP                     0.133037\n",
       "GS                     0.136457\n",
       "G                      0.136457\n",
       "Control                0.151623\n",
       "Shannon Diversity      0.179760\n",
       "Pitch Diversity        0.218852\n",
       "SF%                    0.234089\n",
       "KN%                    0.397973\n",
       "Age                    1.000000\n",
       "Name: Age, dtype: float64"
      ]
     },
     "execution_count": 4,
     "metadata": {},
     "output_type": "execute_result"
    }
   ],
   "source": [
    "df.corr()['Age'].sort_values()"
   ]
  },
  {
   "cell_type": "code",
   "execution_count": 6,
   "metadata": {
    "scrolled": true
   },
   "outputs": [
    {
     "data": {
      "text/plain": [
       "<matplotlib.collections.PathCollection at 0x23998d156c8>"
      ]
     },
     "execution_count": 6,
     "metadata": {},
     "output_type": "execute_result"
    },
    {
     "data": {
      "image/png": "[encoded data removed]",
      "text/plain": [
       "<Figure size 432x288 with 1 Axes>"
      ]
     },
     "metadata": {
      "needs_background": "light"
     },
     "output_type": "display_data"
    }
   ],
   "source": [
    "plt.scatter(df['Age'], df['WAR'])"
   ]
  },
  {
   "cell_type": "code",
   "execution_count": 34,
   "metadata": {
    "scrolled": true
   },
   "outputs": [
    {
     "data": {
      "text/plain": [
       "(0, 20)"
      ]
     },
     "execution_count": 34,
     "metadata": {},
     "output_type": "execute_result"
    },
    {
     "data": {
      "image/png": "[encoded data removed]",
      "text/plain": [
       "<Figure size 432x288 with 1 Axes>"
      ]
     },
     "metadata": {
      "needs_background": "light"
     },
     "output_type": "display_data"
    }
   ],
   "source": [
    "plt.scatter(df['Age'], df['ERA'])\n",
    "plt.ylim(0, 20)"
   ]
  },
  {
   "cell_type": "code",
   "execution_count": 7,
   "metadata": {
    "scrolled": true
   },
   "outputs": [
    {
     "data": {
      "text/plain": [
       "<matplotlib.collections.PathCollection at 0x2399cd5d388>"
      ]
     },
     "execution_count": 7,
     "metadata": {},
     "output_type": "execute_result"
    },
    {
     "data": {
      "image/png": "[encoded data removed]",
      "text/plain": [
       "<Figure size 432x288 with 1 Axes>"
      ]
     },
     "metadata": {
      "needs_background": "light"
     },
     "output_type": "display_data"
    }
   ],
   "source": [
    "plt.scatter(df['FBv'], df['K/9'])"
   ]
  },
  {
   "cell_type": "code",
   "execution_count": 9,
   "metadata": {},
   "outputs": [
    {
     "data": {
      "text/plain": [
       "<matplotlib.collections.PathCollection at 0x2399cd8cfc8>"
      ]
     },
     "execution_count": 9,
     "metadata": {},
     "output_type": "execute_result"
    },
    {
     "data": {
      "image/png": "[encoded data removed]",
      "text/plain": [
       "<Figure size 432x288 with 1 Axes>"
      ]
     },
     "metadata": {
      "needs_background": "light"
     },
     "output_type": "display_data"
    }
   ],
   "source": [
    "plt.scatter(pd.unique(df['Age']), df.groupby(['Age']).median()['WAR'])"
   ]
  },
  {
   "cell_type": "code",
   "execution_count": 10,
   "metadata": {},
   "outputs": [
    {
     "data": {
      "text/plain": [
       "<matplotlib.collections.PathCollection at 0x2399ce18108>"
      ]
     },
     "execution_count": 10,
     "metadata": {},
     "output_type": "execute_result"
    },
    {
     "data": {
      "image/png": "[encoded data removed]",
      "text/plain": [
       "<Figure size 432x288 with 1 Axes>"
      ]
     },
     "metadata": {
      "needs_background": "light"
     },
     "output_type": "display_data"
    }
   ],
   "source": [
    "plt.scatter(pd.unique(df['Age']), df.groupby(['Age']).median()['FBv'])"
   ]
  },
  {
   "cell_type": "code",
   "execution_count": 11,
   "metadata": {},
   "outputs": [
    {
     "data": {
      "text/plain": [
       "<matplotlib.collections.PathCollection at 0x2399cd8c148>"
      ]
     },
     "execution_count": 11,
     "metadata": {},
     "output_type": "execute_result"
    },
    {
     "data": {
      "image/png": "[encoded data removed]",
      "text/plain": [
       "<Figure size 432x288 with 1 Axes>"
      ]
     },
     "metadata": {
      "needs_background": "light"
     },
     "output_type": "display_data"
    }
   ],
   "source": [
    "plt.scatter(pd.unique(df['Age']), df.groupby(['Age']).median()['K/9'])"
   ]
  },
  {
   "cell_type": "code",
   "execution_count": 12,
   "metadata": {
    "scrolled": true
   },
   "outputs": [
    {
     "data": {
      "text/plain": [
       "<matplotlib.collections.PathCollection at 0x2399deb3048>"
      ]
     },
     "execution_count": 12,
     "metadata": {},
     "output_type": "execute_result"
    },
    {
     "data": {
      "image/png": "[encoded data removed]",
      "text/plain": [
       "<Figure size 432x288 with 1 Axes>"
      ]
     },
     "metadata": {
      "needs_background": "light"
     },
     "output_type": "display_data"
    }
   ],
   "source": [
    "plt.scatter(df['Age'], df['K/9'])"
   ]
  },
  {
   "cell_type": "code",
   "execution_count": 13,
   "metadata": {
    "scrolled": false
   },
   "outputs": [
    {
     "data": {
      "text/plain": [
       "<matplotlib.collections.PathCollection at 0x2399df22dc8>"
      ]
     },
     "execution_count": 13,
     "metadata": {},
     "output_type": "execute_result"
    },
    {
     "data": {
      "image/png": "[encoded data removed]",
      "text/plain": [
       "<Figure size 432x288 with 1 Axes>"
      ]
     },
     "metadata": {
      "needs_background": "light"
     },
     "output_type": "display_data"
    }
   ],
   "source": [
    "plt.scatter(df['Age'], df['AVG'])"
   ]
  },
  {
   "cell_type": "code",
   "execution_count": 14,
   "metadata": {},
   "outputs": [
    {
     "data": {
      "text/plain": [
       "<matplotlib.collections.PathCollection at 0x2399df90108>"
      ]
     },
     "execution_count": 14,
     "metadata": {},
     "output_type": "execute_result"
    },
    {
     "data": {
      "image/png": "[encoded data removed]",
      "text/plain": [
       "<Figure size 432x288 with 1 Axes>"
      ]
     },
     "metadata": {
      "needs_background": "light"
     },
     "output_type": "display_data"
    }
   ],
   "source": [
    "plt.scatter(pd.unique(df['Age']), df.groupby(['Age']).median()['AVG'])"
   ]
  },
  {
   "cell_type": "code",
   "execution_count": 15,
   "metadata": {
    "scrolled": true
   },
   "outputs": [
    {
     "data": {
      "text/plain": [
       "<matplotlib.collections.PathCollection at 0x2399dff9508>"
      ]
     },
     "execution_count": 15,
     "metadata": {},
     "output_type": "execute_result"
    },
    {
     "data": {
      "image/png": "[encoded data removed]",
      "text/plain": [
       "<Figure size 432x288 with 1 Axes>"
      ]
     },
     "metadata": {
      "needs_background": "light"
     },
     "output_type": "display_data"
    }
   ],
   "source": [
    "plt.scatter(pd.unique(df['Age']), df.groupby(['Age']).median()['BB/9'])"
   ]
  },
  {
   "cell_type": "code",
   "execution_count": 16,
   "metadata": {
    "scrolled": true
   },
   "outputs": [
    {
     "data": {
      "text/plain": [
       "<matplotlib.collections.PathCollection at 0x2399e021bc8>"
      ]
     },
     "execution_count": 16,
     "metadata": {},
     "output_type": "execute_result"
    },
    {
     "data": {
      "image/png": "[encoded data removed]",
      "text/plain": [
       "<Figure size 432x288 with 1 Axes>"
      ]
     },
     "metadata": {
      "needs_background": "light"
     },
     "output_type": "display_data"
    }
   ],
   "source": [
    "plt.scatter(df['Age'], df['BB/9'])"
   ]
  },
  {
   "cell_type": "code",
   "execution_count": 17,
   "metadata": {
    "scrolled": false
   },
   "outputs": [
    {
     "data": {
      "text/plain": [
       "<matplotlib.collections.PathCollection at 0x2399e0cef48>"
      ]
     },
     "execution_count": 17,
     "metadata": {},
     "output_type": "execute_result"
    },
    {
     "data": {
      "image/png": "[encoded data removed]",
      "text/plain": [
       "<Figure size 432x288 with 1 Axes>"
      ]
     },
     "metadata": {
      "needs_background": "light"
     },
     "output_type": "display_data"
    }
   ],
   "source": [
    "plt.scatter(df.groupby(['Name']).mean()['FBv'], df.groupby(['Name']).mean()['K/9'], s = 4)"
   ]
  },
  {
   "cell_type": "code",
   "execution_count": 18,
   "metadata": {
    "scrolled": true
   },
   "outputs": [
    {
     "data": {
      "text/plain": [
       "<matplotlib.collections.PathCollection at 0x2399e12db88>"
      ]
     },
     "execution_count": 18,
     "metadata": {},
     "output_type": "execute_result"
    },
    {
     "data": {
      "image/png": "[encoded data removed]",
      "text/plain": [
       "<Figure size 432x288 with 1 Axes>"
      ]
     },
     "metadata": {
      "needs_background": "light"
     },
     "output_type": "display_data"
    }
   ],
   "source": [
    "plt.scatter(df.groupby(['Name']).mean()['Shannon Diversity'], df.groupby(['Name']).mean()['K/9'], s = 4)"
   ]
  },
  {
   "cell_type": "code",
   "execution_count": 76,
   "metadata": {},
   "outputs": [
    {
     "data": {
      "text/plain": [
       "<matplotlib.collections.PathCollection at 0x1ef768b06c8>"
      ]
     },
     "execution_count": 76,
     "metadata": {},
     "output_type": "execute_result"
    },
    {
     "data": {
      "image/png": "[encoded data removed]",
      "text/plain": [
       "<Figure size 432x288 with 1 Axes>"
      ]
     },
     "metadata": {
      "needs_background": "light"
     },
     "output_type": "display_data"
    }
   ],
   "source": [
    "plt.scatter(df['FBv'], df['Shannon Diversity'], s = 4)"
   ]
  },
  {
   "cell_type": "code",
   "execution_count": 19,
   "metadata": {
    "scrolled": true
   },
   "outputs": [
    {
     "data": {
      "text/plain": [
       "<matplotlib.collections.PathCollection at 0x2399e18fb08>"
      ]
     },
     "execution_count": 19,
     "metadata": {},
     "output_type": "execute_result"
    },
    {
     "data": {
      "image/png": "[encoded data removed]",
      "text/plain": [
       "<Figure size 432x288 with 1 Axes>"
      ]
     },
     "metadata": {
      "needs_background": "light"
     },
     "output_type": "display_data"
    }
   ],
   "source": [
    "plt.scatter(df.groupby(['Name']).mean()['FBv'], df.groupby(['Name']).mean()['AVG'], s = 4)"
   ]
  },
  {
   "cell_type": "code",
   "execution_count": 20,
   "metadata": {
    "scrolled": true
   },
   "outputs": [
    {
     "data": {
      "text/plain": [
       "<matplotlib.collections.PathCollection at 0x2399e1eebc8>"
      ]
     },
     "execution_count": 20,
     "metadata": {},
     "output_type": "execute_result"
    },
    {
     "data": {
      "image/png": "[encoded data removed]",
      "text/plain": [
       "<Figure size 432x288 with 1 Axes>"
      ]
     },
     "metadata": {
      "needs_background": "light"
     },
     "output_type": "display_data"
    }
   ],
   "source": [
    "plt.scatter(df.groupby(['Name']).mean()['FBv'], df.groupby(['Name']).mean()['Shannon Diversity'], s = 4)"
   ]
  },
  {
   "cell_type": "code",
   "execution_count": 21,
   "metadata": {
    "scrolled": true
   },
   "outputs": [
    {
     "data": {
      "text/plain": [
       "<matplotlib.collections.PathCollection at 0x2399e171608>"
      ]
     },
     "execution_count": 21,
     "metadata": {},
     "output_type": "execute_result"
    },
    {
     "data": {
      "image/png": "[encoded data removed]",
      "text/plain": [
       "<Figure size 432x288 with 1 Axes>"
      ]
     },
     "metadata": {
      "needs_background": "light"
     },
     "output_type": "display_data"
    }
   ],
   "source": [
    "plt.scatter(df.groupby(['Name']).mean()['FBv'], df.groupby(['Name']).mean()['WAR'], s = 4)"
   ]
  },
  {
   "cell_type": "code",
   "execution_count": null,
   "metadata": {},
   "outputs": [],
   "source": []
  },
  {
   "cell_type": "code",
   "execution_count": 22,
   "metadata": {},
   "outputs": [
    {
     "data": {
      "text/plain": [
       "Index(['CC Sabathia', 'Bartolo Colon', 'Edwin Jackson', 'John Lackey',\n",
       "       'Justin Verlander', 'Kyle Lohse', 'Zack Greinke', 'Ervin Santana',\n",
       "       'Felix Hernandez', 'Jake Peavy', 'Cole Hamels', 'R.A. Dickey',\n",
       "       'Aaron Harang', 'Edinson Volquez', 'Jon Lester', 'Anibal Sanchez',\n",
       "       'A.J. Burnett', 'Mark Buehrle', 'Tim Hudson', 'Jason Vargas',\n",
       "       'Barry Zito', 'Josh Beckett', 'Chris Young', 'Cliff Lee', 'Dan Haren',\n",
       "       'Homer Bailey', 'Bronson Arroyo', 'Brandon McCarthy', 'Matt Cain',\n",
       "       'Francisco Liriano', 'J.A. Happ', 'Jason Hammel', 'James Shields',\n",
       "       'Clay Buchholz', 'Randy Wolf', 'Jason Marquis', 'Matt Garza',\n",
       "       'Clayton Kershaw', 'Yovani Gallardo', 'Ubaldo Jimenez',\n",
       "       'Adam Wainwright', 'Ricky Nolasco', 'Roy Halladay', 'Johnny Cueto',\n",
       "       'Scott Kazmir', 'Max Scherzer', 'Charlie Morton', 'David Price',\n",
       "       'Jered Weaver', 'Freddy Garcia', 'Mike Pelfrey', 'Ted Lilly',\n",
       "       'Jorge De La Rosa', 'Bruce Chen', 'Gio Gonzalez', 'Roy Oswalt',\n",
       "       'Phil Hughes', 'Jordan Zimmermann', 'Derek Holland', 'Aaron Cook',\n",
       "       'Chris Capuano', 'Jeremy Guthrie', 'Jon Garland', 'Jhoulys Chacin',\n",
       "       'Rick Porcello', 'Marco Estrada', 'Jake Westbrook', 'Wandy Rodriguez',\n",
       "       'Brett Anderson', 'Brad Penny', 'Madison Bumgarner', 'Kevin Millwood',\n",
       "       'Kevin Correia', 'Gavin Floyd', 'Carlos Zambrano', 'Trevor Cahill',\n",
       "       'Derek Lowe', 'Brett Myers', 'Clayton Richard', 'Roberto Hernandez',\n",
       "       'Andy Pettitte', 'Ian Kennedy'],\n",
       "      dtype='object')"
      ]
     },
     "execution_count": 22,
     "metadata": {},
     "output_type": "execute_result"
    }
   ],
   "source": [
    "(df['Name'].value_counts()[df['Name'].value_counts() > 10]).index"
   ]
  },
  {
   "cell_type": "code",
   "execution_count": 23,
   "metadata": {},
   "outputs": [],
   "source": [
    "df_10 = pd.DataFrame()"
   ]
  },
  {
   "cell_type": "code",
   "execution_count": 24,
   "metadata": {
    "scrolled": true
   },
   "outputs": [
    {
     "data": {
      "text/plain": [
       "['CC Sabathia',\n",
       " 'Bartolo Colon',\n",
       " 'Edwin Jackson',\n",
       " 'John Lackey',\n",
       " 'Justin Verlander',\n",
       " 'Kyle Lohse',\n",
       " 'Zack Greinke',\n",
       " 'Ervin Santana',\n",
       " 'Felix Hernandez',\n",
       " 'Jake Peavy',\n",
       " 'Cole Hamels',\n",
       " 'R.A. Dickey',\n",
       " 'Aaron Harang',\n",
       " 'Edinson Volquez',\n",
       " 'Jon Lester',\n",
       " 'Anibal Sanchez',\n",
       " 'A.J. Burnett',\n",
       " 'Mark Buehrle',\n",
       " 'Tim Hudson',\n",
       " 'Jason Vargas',\n",
       " 'Barry Zito',\n",
       " 'Josh Beckett',\n",
       " 'Chris Young',\n",
       " 'Cliff Lee',\n",
       " 'Dan Haren',\n",
       " 'Homer Bailey',\n",
       " 'Bronson Arroyo',\n",
       " 'Brandon McCarthy',\n",
       " 'Matt Cain',\n",
       " 'Francisco Liriano',\n",
       " 'J.A. Happ',\n",
       " 'Jason Hammel',\n",
       " 'James Shields',\n",
       " 'Clay Buchholz',\n",
       " 'Randy Wolf',\n",
       " 'Jason Marquis',\n",
       " 'Matt Garza',\n",
       " 'Clayton Kershaw',\n",
       " 'Yovani Gallardo',\n",
       " 'Ubaldo Jimenez',\n",
       " 'Adam Wainwright',\n",
       " 'Ricky Nolasco',\n",
       " 'Roy Halladay',\n",
       " 'Johnny Cueto',\n",
       " 'Scott Kazmir',\n",
       " 'Max Scherzer',\n",
       " 'Charlie Morton',\n",
       " 'David Price',\n",
       " 'Jered Weaver',\n",
       " 'Freddy Garcia',\n",
       " 'Mike Pelfrey',\n",
       " 'Ted Lilly',\n",
       " 'Jorge De La Rosa',\n",
       " 'Bruce Chen',\n",
       " 'Gio Gonzalez',\n",
       " 'Roy Oswalt',\n",
       " 'Phil Hughes',\n",
       " 'Jordan Zimmermann',\n",
       " 'Derek Holland',\n",
       " 'Aaron Cook',\n",
       " 'Chris Capuano',\n",
       " 'Jeremy Guthrie',\n",
       " 'Jon Garland',\n",
       " 'Jhoulys Chacin',\n",
       " 'Rick Porcello',\n",
       " 'Marco Estrada',\n",
       " 'Jake Westbrook',\n",
       " 'Wandy Rodriguez',\n",
       " 'Brett Anderson',\n",
       " 'Brad Penny',\n",
       " 'Madison Bumgarner',\n",
       " 'Kevin Millwood',\n",
       " 'Kevin Correia',\n",
       " 'Gavin Floyd',\n",
       " 'Carlos Zambrano',\n",
       " 'Trevor Cahill',\n",
       " 'Derek Lowe',\n",
       " 'Brett Myers',\n",
       " 'Clayton Richard',\n",
       " 'Roberto Hernandez',\n",
       " 'Andy Pettitte',\n",
       " 'Ian Kennedy']"
      ]
     },
     "execution_count": 24,
     "metadata": {},
     "output_type": "execute_result"
    }
   ],
   "source": [
    "names = (df['Name'].value_counts()[df['Name'].value_counts() > 10]).index.tolist()\n",
    "names"
   ]
  },
  {
   "cell_type": "code",
   "execution_count": 25,
   "metadata": {
    "scrolled": true
   },
   "outputs": [
    {
     "data": {
      "text/plain": [
       "(array([  3.,  21., 102., 281., 753., 515., 362., 226., 278., 253., 237.,\n",
       "        163., 153., 160.,  71., 101.,  70.,  59.,  28.,  27.,  28.,  20.,\n",
       "         14.,  11.,   7.,   4.,   1.,   3.,   1.,   2.]),\n",
       " array([-1.6       , -1.22666667, -0.85333333, -0.48      , -0.10666667,\n",
       "         0.26666667,  0.64      ,  1.01333333,  1.38666667,  1.76      ,\n",
       "         2.13333333,  2.50666667,  2.88      ,  3.25333333,  3.62666667,\n",
       "         4.        ,  4.37333333,  4.74666667,  5.12      ,  5.49333333,\n",
       "         5.86666667,  6.24      ,  6.61333333,  6.98666667,  7.36      ,\n",
       "         7.73333333,  8.10666667,  8.48      ,  8.85333333,  9.22666667,\n",
       "         9.6       ]),\n",
       " <a list of 30 Patch objects>)"
      ]
     },
     "execution_count": 25,
     "metadata": {},
     "output_type": "execute_result"
    },
    {
     "data": {
      "image/png": "[encoded data removed]",
      "text/plain": [
       "<Figure size 432x288 with 1 Axes>"
      ]
     },
     "metadata": {
      "needs_background": "light"
     },
     "output_type": "display_data"
    }
   ],
   "source": [
    "plt.hist(df['WAR'], edgecolor = 'black', bins = 30)"
   ]
  },
  {
   "cell_type": "code",
   "execution_count": 26,
   "metadata": {
    "scrolled": true
   },
   "outputs": [
    {
     "data": {
      "text/plain": [
       "(array([ 14.,   9.,  33., 100., 292., 552., 705., 683., 653., 407., 272.,\n",
       "        107.,  78.,  26.,   8.,   8.,   0.,   2.,   1.,   0.,   1.,   0.,\n",
       "          1.,   0.,   1.,   0.,   0.,   0.,   0.,   1.]),\n",
       " array([ 0. ,  0.9,  1.8,  2.7,  3.6,  4.5,  5.4,  6.3,  7.2,  8.1,  9. ,\n",
       "         9.9, 10.8, 11.7, 12.6, 13.5, 14.4, 15.3, 16.2, 17.1, 18. , 18.9,\n",
       "        19.8, 20.7, 21.6, 22.5, 23.4, 24.3, 25.2, 26.1, 27. ]),\n",
       " <a list of 30 Patch objects>)"
      ]
     },
     "execution_count": 26,
     "metadata": {},
     "output_type": "execute_result"
    },
    {
     "data": {
      "image/png": "[encoded data removed]",
      "text/plain": [
       "<Figure size 432x288 with 1 Axes>"
      ]
     },
     "metadata": {
      "needs_background": "light"
     },
     "output_type": "display_data"
    }
   ],
   "source": [
    "plt.hist(df['K/9'], edgecolor = 'black', bins = 30)"
   ]
  },
  {
   "cell_type": "code",
   "execution_count": 27,
   "metadata": {},
   "outputs": [
    {
     "data": {
      "text/plain": [
       "(0, 15)"
      ]
     },
     "execution_count": 27,
     "metadata": {},
     "output_type": "execute_result"
    },
    {
     "data": {
      "image/png": "[encoded data removed]",
      "text/plain": [
       "<Figure size 432x288 with 1 Axes>"
      ]
     },
     "metadata": {
      "needs_background": "light"
     },
     "output_type": "display_data"
    }
   ],
   "source": [
    "plt.hist(df['BB/9'], edgecolor = 'black', bins = 100)\n",
    "plt.xlim(0, 15)"
   ]
  },
  {
   "cell_type": "code",
   "execution_count": null,
   "metadata": {},
   "outputs": [],
   "source": []
  },
  {
   "cell_type": "code",
   "execution_count": null,
   "metadata": {},
   "outputs": [],
   "source": []
  },
  {
   "cell_type": "code",
   "execution_count": null,
   "metadata": {},
   "outputs": [],
   "source": []
  },
  {
   "cell_type": "code",
   "execution_count": null,
   "metadata": {},
   "outputs": [],
   "source": []
  },
  {
   "cell_type": "code",
   "execution_count": null,
   "metadata": {},
   "outputs": [],
   "source": []
  }
 ],
 "metadata": {
  "kernelspec": {
   "display_name": "Python 3",
   "language": "python",
   "name": "python3"
  },
  "language_info": {
   "codemirror_mode": {
    "name": "ipython",
    "version": 3
   },
   "file_extension": ".py",
   "mimetype": "text/x-python",
   "name": "python",
   "nbconvert_exporter": "python",
   "pygments_lexer": "ipython3",
   "version": "3.7.4"
  }
 },
 "nbformat": 4,
 "nbformat_minor": 2
}
