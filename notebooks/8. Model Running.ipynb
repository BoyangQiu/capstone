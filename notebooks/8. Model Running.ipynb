{
 "cells": [
  {
   "cell_type": "markdown",
   "metadata": {},
   "source": [
    "## AIM: Test the workflow to ensure that the CNN models can be loaded and take in user input to generate predictions\n",
    "***\n",
    "\n",
    "With the models built, now they need to be tested to make sure they can be productionalized and take in user inputs."
   ]
  },
  {
   "cell_type": "code",
   "execution_count": 1,
   "metadata": {},
   "outputs": [],
   "source": [
    "import tensorflow as tf\n",
    "from tensorflow import keras\n",
    "import pandas as pd\n",
    "import numpy as np\n",
    "import matplotlib.pyplot as plt\n",
    "from tensorflow.keras.models import Model\n",
    "import os"
   ]
  },
  {
   "cell_type": "code",
   "execution_count": 2,
   "metadata": {},
   "outputs": [],
   "source": [
    "# Create a function that will take in the player of interest and the user input and return the model predictions\n",
    "# Also will return the probability plot of the classes\n",
    "def run_model(name, user_input):\n",
    "    # Get the last name from the full name in lower case\n",
    "    lastname = name.split()[1].lower()\n",
    "\n",
    "    # Load the correct model\n",
    "    model = tf.keras.models.load_model(f'saved_model/{lastname}')\n",
    "    # Get the predicted probabilities\n",
    "    pred_proba = model.predict(user_input)\n",
    "    # Pull the max probability as the predicted pitch\n",
    "    pred_pitch = np.argmax(pred_proba,axis=1)\n",
    "\n",
    "    \n",
    "    # Read in the possible pitch names\n",
    "    df = pd.read_csv('pitch_names.csv', index_col = 0)\n",
    "    # Store the number of different pitches as a varialbe\n",
    "    pitches = len(df[df.index == name].T.dropna())\n",
    "    # The number of ticks on the plot based on # of different pitches\n",
    "    indices = np.arange(pitches)\n",
    "    # Width of bars\n",
    "    width = 0.5\n",
    "\n",
    "    # Get the row where name equals name input\n",
    "    # Drop NA columns if exists\n",
    "    # Put the value to list format, default is a list inside a list of lists, use pop() to get it out of the outer list\n",
    "    xnames = df[df.index == name].dropna(axis = 1).values.tolist().pop()\n",
    "    \n",
    "    # Convert the array of integers into the pitch names using nested np.where functions\n",
    "    # For 2 pitch pitchers\n",
    "    if len(xnames) == 2:\n",
    "        pred_pitch = np.where(pred_pitch == 0, xnames[0], \n",
    "                                np.where(pred_pitch == 1, xnames[1], pred_pitch))\n",
    "    # For 3 pitch pitchers:\n",
    "    elif len(xnames) == 3: \n",
    "        pred_pitch = np.where(pred_pitch == 0, xnames[0], \n",
    "                                np.where(pred_pitch == 1, xnames[1], \n",
    "                                        np.where(pred_pitch == 2, xnames[2], pred_pitch)))\n",
    "    # For 4 pitch pitchers:  \n",
    "    elif len(xnames) == 4:\n",
    "        pred_pitch = np.where(pred_pitch == 0, xnames[0], \n",
    "                                np.where(pred_pitch == 1, xnames[1], \n",
    "                                        np.where(pred_pitch == 2, xnames[2], \n",
    "                                                np.where(pred_pitch == 3, xnames[3], pred_pitch))))\n",
    "                                 \n",
    "    # Pred proba returns an array of lists, need to get just the first list of values\n",
    "    # Set a color list of all light grey which is same length as number of bars\n",
    "    colors = np.array(['#f0f0f0']*len(pred_proba[0]))\n",
    "    # Modify the color at the index where the bar height is at the max to dark blue to stand out\n",
    "    colors[pred_proba[0] == pred_proba[0].max()] = '#0f52ba'\n",
    "    \n",
    "    # Do the same for the edgecolors to further highlight top probability\n",
    "    edgecolors = np.array(['#f0f0f0']*len(pred_proba[0]))\n",
    "    edgecolors[pred_proba[0] == pred_proba[0].max()] = '#ea3c53'\n",
    "    \n",
    "    # Instatiate the plot\n",
    "    fig, ax = plt.subplots()\n",
    "    # Bar plot\n",
    "    ax.bar(indices, pred_proba[0], width, edgecolor = edgecolors, linewidth='1.3', color = colors)\n",
    "    \n",
    "    # Add padding to improve spacing between axis, axis labels, and axis title   \n",
    "    ax.set_ylabel('Predicted Probability', labelpad = 5)\n",
    "    ax.set_xlabel('Pitch Type', labelpad=10)\n",
    "    ax.tick_params(axis='x', which='major', pad=5)\n",
    "    # Label xticks with the pitch names    \n",
    "    plt.xticks(indices, xnames)\n",
    "    \n",
    "    # Remove some of spines for aesthetics\n",
    "    ax.spines['top'].set_color('none')\n",
    "    ax.spines['right'].set_color('none')\n",
    "    ax.spines['bottom'].set_bounds(indices.min()-width/2, indices.max()+width/2)\n",
    "    ax.spines['left'].set_bounds(0, pred_proba[0].max())\n",
    "    # Save it to a unique timestamp --> for later\n",
    "    # plt.savefig(f'C:/Users/Boyang Qiu/Desktop/Brainstation/Capstone/static/plots/prob_{now}.png')\n",
    "    \n",
    "    # Return a sentence summary with the probability rounded to 2 decimal places\n",
    "    prediction = 'Predicted Pitch: ' + pred_pitch[0] + \" ({:.2g}% predicted probability)\".format(np.amax(pred_proba)*100)\n",
    "    return prediction"
   ]
  },
  {
   "cell_type": "code",
   "execution_count": 24,
   "metadata": {},
   "outputs": [
    {
     "data": {
      "text/html": [
       "<div>\n",
       "<style scoped>\n",
       "    .dataframe tbody tr th:only-of-type {\n",
       "        vertical-align: middle;\n",
       "    }\n",
       "\n",
       "    .dataframe tbody tr th {\n",
       "        vertical-align: top;\n",
       "    }\n",
       "\n",
       "    .dataframe thead th {\n",
       "        text-align: right;\n",
       "    }\n",
       "</style>\n",
       "<table border=\"1\" class=\"dataframe\">\n",
       "  <thead>\n",
       "    <tr style=\"text-align: right;\">\n",
       "      <th></th>\n",
       "      <th>on_3b</th>\n",
       "      <th>on_2b</th>\n",
       "      <th>on_1b</th>\n",
       "      <th>bat_score</th>\n",
       "      <th>fld_score</th>\n",
       "      <th>reg_season</th>\n",
       "      <th>post_season</th>\n",
       "      <th>bat_left</th>\n",
       "      <th>bat_right</th>\n",
       "      <th>b__0</th>\n",
       "      <th>...</th>\n",
       "      <th>o__0</th>\n",
       "      <th>o__1</th>\n",
       "      <th>o__2</th>\n",
       "      <th>prev__Breaking Ball</th>\n",
       "      <th>prev__Fastball</th>\n",
       "      <th>prev__None</th>\n",
       "      <th>prev__Off-speed</th>\n",
       "      <th>early</th>\n",
       "      <th>mid</th>\n",
       "      <th>late</th>\n",
       "    </tr>\n",
       "  </thead>\n",
       "  <tbody>\n",
       "    <tr>\n",
       "      <th>0</th>\n",
       "      <td>0</td>\n",
       "      <td>0</td>\n",
       "      <td>0</td>\n",
       "      <td>0</td>\n",
       "      <td>0</td>\n",
       "      <td>0</td>\n",
       "      <td>0</td>\n",
       "      <td>0</td>\n",
       "      <td>0</td>\n",
       "      <td>0</td>\n",
       "      <td>...</td>\n",
       "      <td>0</td>\n",
       "      <td>0</td>\n",
       "      <td>0</td>\n",
       "      <td>0</td>\n",
       "      <td>0</td>\n",
       "      <td>0</td>\n",
       "      <td>0</td>\n",
       "      <td>0</td>\n",
       "      <td>0</td>\n",
       "      <td>0</td>\n",
       "    </tr>\n",
       "  </tbody>\n",
       "</table>\n",
       "<p>1 rows × 26 columns</p>\n",
       "</div>"
      ],
      "text/plain": [
       "   on_3b  on_2b  on_1b  bat_score  fld_score  reg_season  post_season  \\\n",
       "0      0      0      0          0          0           0            0   \n",
       "\n",
       "   bat_left  bat_right  b__0  ...  o__0  o__1  o__2  prev__Breaking Ball  \\\n",
       "0         0          0     0  ...     0     0     0                    0   \n",
       "\n",
       "   prev__Fastball  prev__None  prev__Off-speed  early  mid  late  \n",
       "0               0           0                0      0    0     0  \n",
       "\n",
       "[1 rows x 26 columns]"
      ]
     },
     "execution_count": 24,
     "metadata": {},
     "output_type": "execute_result"
    }
   ],
   "source": [
    "# Read in the template dataframe for inputs\n",
    "user = pd.read_csv('for_inputs.csv', index_col=0)\n",
    "user"
   ]
  },
  {
   "cell_type": "markdown",
   "metadata": {},
   "source": [
    "I noticed that for `Zack Greinke`, he has an additional pitch class called `Junk` that other pitchers do not have. This will have to be accounted for in a way that is scalable and does not affect the other players so that he can have his dataframe adjusted so it can be fed properly into the CNN."
   ]
  },
  {
   "cell_type": "code",
   "execution_count": 20,
   "metadata": {},
   "outputs": [
    {
     "data": {
      "text/plain": [
       "array([[21]], dtype=int64)"
      ]
     },
     "execution_count": 20,
     "metadata": {},
     "output_type": "execute_result"
    }
   ],
   "source": [
    "# The prev_Junk column goes before the prev_None column\n",
    "np.argwhere(user.columns == 'prev__None')"
   ]
  },
  {
   "cell_type": "code",
   "execution_count": 21,
   "metadata": {},
   "outputs": [],
   "source": [
    "# Test inserting a new column there\n",
    "loc = int(np.argwhere(user.columns == 'prev__None')[0][0])\n",
    "user.insert(loc, 'new', 0)"
   ]
  },
  {
   "cell_type": "code",
   "execution_count": 22,
   "metadata": {},
   "outputs": [
    {
     "data": {
      "text/html": [
       "<div>\n",
       "<style scoped>\n",
       "    .dataframe tbody tr th:only-of-type {\n",
       "        vertical-align: middle;\n",
       "    }\n",
       "\n",
       "    .dataframe tbody tr th {\n",
       "        vertical-align: top;\n",
       "    }\n",
       "\n",
       "    .dataframe thead th {\n",
       "        text-align: right;\n",
       "    }\n",
       "</style>\n",
       "<table border=\"1\" class=\"dataframe\">\n",
       "  <thead>\n",
       "    <tr style=\"text-align: right;\">\n",
       "      <th></th>\n",
       "      <th>on_3b</th>\n",
       "      <th>on_2b</th>\n",
       "      <th>on_1b</th>\n",
       "      <th>bat_score</th>\n",
       "      <th>fld_score</th>\n",
       "      <th>reg_season</th>\n",
       "      <th>post_season</th>\n",
       "      <th>bat_left</th>\n",
       "      <th>bat_right</th>\n",
       "      <th>b__0</th>\n",
       "      <th>...</th>\n",
       "      <th>o__1</th>\n",
       "      <th>o__2</th>\n",
       "      <th>prev__Breaking Ball</th>\n",
       "      <th>prev__Fastball</th>\n",
       "      <th>new</th>\n",
       "      <th>prev__None</th>\n",
       "      <th>prev__Off-speed</th>\n",
       "      <th>early</th>\n",
       "      <th>mid</th>\n",
       "      <th>late</th>\n",
       "    </tr>\n",
       "  </thead>\n",
       "  <tbody>\n",
       "    <tr>\n",
       "      <th>0</th>\n",
       "      <td>0</td>\n",
       "      <td>0</td>\n",
       "      <td>0</td>\n",
       "      <td>0</td>\n",
       "      <td>0</td>\n",
       "      <td>0</td>\n",
       "      <td>0</td>\n",
       "      <td>0</td>\n",
       "      <td>0</td>\n",
       "      <td>0</td>\n",
       "      <td>...</td>\n",
       "      <td>0</td>\n",
       "      <td>0</td>\n",
       "      <td>0</td>\n",
       "      <td>0</td>\n",
       "      <td>0</td>\n",
       "      <td>0</td>\n",
       "      <td>0</td>\n",
       "      <td>0</td>\n",
       "      <td>0</td>\n",
       "      <td>0</td>\n",
       "    </tr>\n",
       "  </tbody>\n",
       "</table>\n",
       "<p>1 rows × 27 columns</p>\n",
       "</div>"
      ],
      "text/plain": [
       "   on_3b  on_2b  on_1b  bat_score  fld_score  reg_season  post_season  \\\n",
       "0      0      0      0          0          0           0            0   \n",
       "\n",
       "   bat_left  bat_right  b__0  ...  o__1  o__2  prev__Breaking Ball  \\\n",
       "0         0          0     0  ...     0     0                    0   \n",
       "\n",
       "   prev__Fastball  new  prev__None  prev__Off-speed  early  mid  late  \n",
       "0               0    0           0                0      0    0     0  \n",
       "\n",
       "[1 rows x 27 columns]"
      ]
     },
     "execution_count": 22,
     "metadata": {},
     "output_type": "execute_result"
    }
   ],
   "source": [
    "user"
   ]
  },
  {
   "cell_type": "code",
   "execution_count": 23,
   "metadata": {},
   "outputs": [
    {
     "data": {
      "text/plain": [
       "'Predicted Pitch: Fastball (32% predicted probability)'"
      ]
     },
     "execution_count": 23,
     "metadata": {},
     "output_type": "execute_result"
    },
    {
     "data": {
      "image/png": "[encoded data removed]",
      "text/plain": [
       "<Figure size 432x288 with 1 Axes>"
      ]
     },
     "metadata": {
      "needs_background": "light"
     },
     "output_type": "display_data"
    }
   ],
   "source": [
    "# Test to run\n",
    "run_model('Zack Greinke', user)"
   ]
  },
  {
   "cell_type": "code",
   "execution_count": 25,
   "metadata": {},
   "outputs": [
    {
     "data": {
      "text/plain": [
       "'Predicted Pitch: Breaking Ball (35% predicted probability)'"
      ]
     },
     "execution_count": 25,
     "metadata": {},
     "output_type": "execute_result"
    },
    {
     "data": {
      "image/png": "[encoded data removed]",
      "text/plain": [
       "<Figure size 432x288 with 1 Axes>"
      ]
     },
     "metadata": {
      "needs_background": "light"
     },
     "output_type": "display_data"
    }
   ],
   "source": [
    "# Test to run for different player, but without inserting a new column\n",
    "user = pd.read_csv('for_inputs.csv', index_col=0)\n",
    "run_model('Max Scherzer', user)"
   ]
  },
  {
   "cell_type": "markdown",
   "metadata": {},
   "source": [
    "It works! But that one unique case needs to be accounted for when somebody choosed `Zack Greinke`.\n",
    "\n",
    "I also want a function to return a summary of the scenario inputted to the user so that they can see what they put in. I want the summary to be in \"baseball English.\""
   ]
  },
  {
   "cell_type": "code",
   "execution_count": 26,
   "metadata": {},
   "outputs": [],
   "source": [
    "# Function to describe scenario\n",
    "def scenario(user_input):\n",
    "    situation = 'Pitch scenario: '\n",
    "\n",
    "    # If clause for baserunners\n",
    "    if user_input['on_3b'].all() == 1 and user_input['on_2b'].all() == 1 and user_input['on_1b'].all() == 1:\n",
    "        situation = situation + 'bases loaded, '\n",
    "    elif user_input['on_3b'].all() == 1 and user_input['on_1b'].all() == 1:\n",
    "        situation = situation + 'runners on the corners, '\n",
    "    elif user_input['on_2b'].all() == 1 and user_input['on_1b'].all() == 1:\n",
    "        situation = situation + 'runners on first and second, '\n",
    "    elif user_input['on_3b'].all() == 1 and user_input['on_2b'].all() == 1:\n",
    "        situation = situation + 'runners on second and third, '\n",
    "    elif user_input['on_3b'].all() == 1:\n",
    "        situation = situation + 'runner on 3rd, '\n",
    "    elif user_input['on_2b'].all() == 1:\n",
    "        situation = situation + 'runner on 2nd, '\n",
    "    elif user_input['on_1b'].all() == 1:\n",
    "        situation = situation + 'runner on 1st, '\n",
    "    else:\n",
    "        situation = situation + 'bases empty, '\n",
    "\n",
    "    # If clause for balls and strikes\n",
    "    if user_input['b__3'].all() == 1 and user_input['s__2'].all() == 1:\n",
    "        situation = situation + 'full count, '\n",
    "    elif user_input['b__3'].all() == 1 and user_input['s__1'].all() == 1:\n",
    "        situation = situation + '3-1 count, '\n",
    "    elif user_input['b__3'].all() == 1 and user_input['s__0'].all() == 1:\n",
    "        situation = situation + '3-0 count, '\n",
    "    elif user_input['b__2'].all() == 1 and user_input['s__2'].all() == 1:\n",
    "        situation = situation + '2-2 count, '\n",
    "    elif user_input['b__2'].all() == 1 and user_input['s__1'].all() == 1:\n",
    "        situation = situation + '2-1 count, '\n",
    "    elif user_input['b__2'].all() == 1 and user_input['s__0'].all() == 1:\n",
    "        situation = situation + '2-0 count, '\n",
    "    elif user_input['b__1'].all() == 1 and user_input['s__2'].all() == 1:\n",
    "        situation = situation + '1-2 count, '\n",
    "    elif user_input['b__1'].all() == 1 and user_input['s__1'].all() == 1:\n",
    "        situation = situation + '1-1 count, '\n",
    "    elif user_input['b__1'].all() == 1 and user_input['s__0'].all() == 1:\n",
    "        situation = situation + '1-0 count, '\n",
    "    elif user_input['b__0'].all() == 1 and user_input['s__2'].all() == 1:\n",
    "        situation = situation + '0-2 count, '\n",
    "    elif user_input['b__0'].all() == 1 and user_input['s__1'].all() == 1:\n",
    "        situation = situation + '0-1 count, '\n",
    "    elif user_input['b__0'].all() == 1 and user_input['s__0'].all() == 1:\n",
    "        situation = situation + '0-0 count, '\n",
    "\n",
    "    # If clause for outs\n",
    "    if user_input['o__0'].all() == 1:\n",
    "        situation = situation + '0 outs, '\n",
    "    elif user_input['o__1'].all() == 1:\n",
    "        situation = situation + '1 out, '  \n",
    "    else:\n",
    "        situation = situation + '2 outs, '\n",
    "\n",
    "    # If clause for inning\n",
    "    if user_input['early'].all() == 1:\n",
    "        situation = situation + 'early in the game, '\n",
    "    elif user_input['mid'].all() == 1:\n",
    "        situation = situation + 'middle of the game, '\n",
    "    else:\n",
    "        situation = situation + 'late in the game, '\n",
    "\n",
    "    # If clause for batter hand\n",
    "    if user_input['bat_left'].all() == 1:\n",
    "        situation = situation + 'left-handed batter at the plate, '\n",
    "    else: \n",
    "        situation = situation + 'right-handed batter at the plate, '\n",
    "\n",
    "    # Fill in score\n",
    "    # No need for if clauses here\n",
    "    situation = situation + f'in a {user_input[\"fld_score\"].values[0]}-{user_input[\"bat_score\"].values[0]} '\n",
    "\n",
    "    # If clause for game type\n",
    "    if user_input['reg_season'].all() == 1:\n",
    "        situation = situation + 'regular season game.'\n",
    "    else:\n",
    "        situation = situation + 'playoff game.'\n",
    "    return situation"
   ]
  },
  {
   "cell_type": "code",
   "execution_count": 27,
   "metadata": {},
   "outputs": [
    {
     "data": {
      "text/plain": [
       "'Pitch scenario: bases empty, 2 outs, late in the game, right-handed batter at the plate, in a 0-0 playoff game.'"
      ]
     },
     "execution_count": 27,
     "metadata": {},
     "output_type": "execute_result"
    }
   ],
   "source": [
    "# Test it out\n",
    "scenario(user)"
   ]
  },
  {
   "cell_type": "markdown",
   "metadata": {},
   "source": [
    "It works for the most part. But note that even though the dataframe is all 0's, it states that there are 2 outs, there is a right handed hitter, it is late in the game, and it is a playoff game.\n",
    "\n",
    "This is fine because of the way the clauses are written where these options are an else case. When the app is officially deployed, user MUST choose an option for those situations so there will always be an input. If the input is not for any of the options prior, then by default it will be these options, which will be correct.\n",
    "***"
   ]
  }
 ],
 "metadata": {
  "kernelspec": {
   "display_name": "Python 3",
   "language": "python",
   "name": "python3"
  },
  "language_info": {
   "codemirror_mode": {
    "name": "ipython",
    "version": 3
   },
   "file_extension": ".py",
   "mimetype": "text/x-python",
   "name": "python",
   "nbconvert_exporter": "python",
   "pygments_lexer": "ipython3",
   "version": "3.8.3"
  }
 },
 "nbformat": 4,
 "nbformat_minor": 4
}
