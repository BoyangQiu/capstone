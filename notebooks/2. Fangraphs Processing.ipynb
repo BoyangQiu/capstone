{
 "cells": [
  {
   "cell_type": "markdown",
   "metadata": {},
   "source": [
    "## AIM: Further processing of the Fangraphs data to ensure it is in a place that it can be used for my downstream applications.\n",
    "\n",
    "***"
   ]
  },
  {
   "cell_type": "code",
   "execution_count": 1,
   "metadata": {},
   "outputs": [],
   "source": [
    "import pandas as pd\n",
    "import numpy as np\n",
    "import matplotlib.pyplot as plt"
   ]
  },
  {
   "cell_type": "code",
   "execution_count": 14,
   "metadata": {},
   "outputs": [],
   "source": [
    "df = pd.read_csv('Master_df.csv', index_col = 0)"
   ]
  },
  {
   "cell_type": "code",
   "execution_count": 15,
   "metadata": {},
   "outputs": [
    {
     "data": {
      "text/html": [
       "<div>\n",
       "<style scoped>\n",
       "    .dataframe tbody tr th:only-of-type {\n",
       "        vertical-align: middle;\n",
       "    }\n",
       "\n",
       "    .dataframe tbody tr th {\n",
       "        vertical-align: top;\n",
       "    }\n",
       "\n",
       "    .dataframe thead th {\n",
       "        text-align: right;\n",
       "    }\n",
       "</style>\n",
       "<table border=\"1\" class=\"dataframe\">\n",
       "  <thead>\n",
       "    <tr style=\"text-align: right;\">\n",
       "      <th></th>\n",
       "      <th>Season</th>\n",
       "      <th>Name</th>\n",
       "      <th>Team</th>\n",
       "      <th>W</th>\n",
       "      <th>L</th>\n",
       "      <th>SV</th>\n",
       "      <th>G</th>\n",
       "      <th>GS</th>\n",
       "      <th>IP</th>\n",
       "      <th>K/9</th>\n",
       "      <th>...</th>\n",
       "      <th>WHIP</th>\n",
       "      <th>IP/G</th>\n",
       "      <th>Shannon Diversity</th>\n",
       "      <th>Strikeouts</th>\n",
       "      <th>Control</th>\n",
       "      <th>Stamina/Consistency</th>\n",
       "      <th>BA Against</th>\n",
       "      <th>Velocity</th>\n",
       "      <th>Ground Balls</th>\n",
       "      <th>Pitch Diversity</th>\n",
       "    </tr>\n",
       "  </thead>\n",
       "  <tbody>\n",
       "    <tr>\n",
       "      <th>0</th>\n",
       "      <td>2002</td>\n",
       "      <td>A.J. Burnett</td>\n",
       "      <td>NaN</td>\n",
       "      <td>12</td>\n",
       "      <td>9</td>\n",
       "      <td>0</td>\n",
       "      <td>29</td>\n",
       "      <td>29</td>\n",
       "      <td>201.2</td>\n",
       "      <td>8.70</td>\n",
       "      <td>...</td>\n",
       "      <td>1.17</td>\n",
       "      <td>6.95</td>\n",
       "      <td>0.753311</td>\n",
       "      <td>90.789474</td>\n",
       "      <td>36.348684</td>\n",
       "      <td>97.203947</td>\n",
       "      <td>88.322368</td>\n",
       "      <td>100.000000</td>\n",
       "      <td>57.236842</td>\n",
       "      <td>15.460526</td>\n",
       "    </tr>\n",
       "    <tr>\n",
       "      <th>1</th>\n",
       "      <td>2003</td>\n",
       "      <td>A.J. Burnett</td>\n",
       "      <td>NaN</td>\n",
       "      <td>0</td>\n",
       "      <td>2</td>\n",
       "      <td>0</td>\n",
       "      <td>4</td>\n",
       "      <td>4</td>\n",
       "      <td>23.0</td>\n",
       "      <td>8.22</td>\n",
       "      <td>...</td>\n",
       "      <td>1.57</td>\n",
       "      <td>5.75</td>\n",
       "      <td>0.772823</td>\n",
       "      <td>91.118421</td>\n",
       "      <td>6.250000</td>\n",
       "      <td>61.019737</td>\n",
       "      <td>85.032895</td>\n",
       "      <td>97.861842</td>\n",
       "      <td>89.144737</td>\n",
       "      <td>7.894737</td>\n",
       "    </tr>\n",
       "    <tr>\n",
       "      <th>2</th>\n",
       "      <td>2004</td>\n",
       "      <td>A.J. Burnett</td>\n",
       "      <td>NaN</td>\n",
       "      <td>7</td>\n",
       "      <td>6</td>\n",
       "      <td>0</td>\n",
       "      <td>19</td>\n",
       "      <td>19</td>\n",
       "      <td>118.0</td>\n",
       "      <td>8.31</td>\n",
       "      <td>...</td>\n",
       "      <td>1.18</td>\n",
       "      <td>6.21</td>\n",
       "      <td>0.812509</td>\n",
       "      <td>89.455782</td>\n",
       "      <td>66.666667</td>\n",
       "      <td>83.333333</td>\n",
       "      <td>64.115646</td>\n",
       "      <td>100.000000</td>\n",
       "      <td>81.122449</td>\n",
       "      <td>10.884354</td>\n",
       "    </tr>\n",
       "    <tr>\n",
       "      <th>3</th>\n",
       "      <td>2005</td>\n",
       "      <td>A.J. Burnett</td>\n",
       "      <td>NaN</td>\n",
       "      <td>12</td>\n",
       "      <td>12</td>\n",
       "      <td>0</td>\n",
       "      <td>32</td>\n",
       "      <td>32</td>\n",
       "      <td>209.0</td>\n",
       "      <td>8.53</td>\n",
       "      <td>...</td>\n",
       "      <td>1.26</td>\n",
       "      <td>6.53</td>\n",
       "      <td>0.885130</td>\n",
       "      <td>92.395437</td>\n",
       "      <td>38.022814</td>\n",
       "      <td>87.452471</td>\n",
       "      <td>41.825095</td>\n",
       "      <td>99.239544</td>\n",
       "      <td>95.057034</td>\n",
       "      <td>20.152091</td>\n",
       "    </tr>\n",
       "    <tr>\n",
       "      <th>4</th>\n",
       "      <td>2006</td>\n",
       "      <td>A.J. Burnett</td>\n",
       "      <td>NaN</td>\n",
       "      <td>10</td>\n",
       "      <td>8</td>\n",
       "      <td>0</td>\n",
       "      <td>21</td>\n",
       "      <td>21</td>\n",
       "      <td>135.2</td>\n",
       "      <td>7.83</td>\n",
       "      <td>...</td>\n",
       "      <td>1.30</td>\n",
       "      <td>6.46</td>\n",
       "      <td>0.759964</td>\n",
       "      <td>83.222591</td>\n",
       "      <td>74.418605</td>\n",
       "      <td>89.700997</td>\n",
       "      <td>39.368771</td>\n",
       "      <td>98.671096</td>\n",
       "      <td>85.215947</td>\n",
       "      <td>6.976744</td>\n",
       "    </tr>\n",
       "  </tbody>\n",
       "</table>\n",
       "<p>5 rows × 43 columns</p>\n",
       "</div>"
      ],
      "text/plain": [
       "   Season          Name  Team   W   L  SV   G  GS     IP   K/9  ...  WHIP  \\\n",
       "0    2002  A.J. Burnett   NaN  12   9   0  29  29  201.2  8.70  ...  1.17   \n",
       "1    2003  A.J. Burnett   NaN   0   2   0   4   4   23.0  8.22  ...  1.57   \n",
       "2    2004  A.J. Burnett   NaN   7   6   0  19  19  118.0  8.31  ...  1.18   \n",
       "3    2005  A.J. Burnett   NaN  12  12   0  32  32  209.0  8.53  ...  1.26   \n",
       "4    2006  A.J. Burnett   NaN  10   8   0  21  21  135.2  7.83  ...  1.30   \n",
       "\n",
       "   IP/G  Shannon Diversity  Strikeouts    Control  Stamina/Consistency  \\\n",
       "0  6.95           0.753311   90.789474  36.348684            97.203947   \n",
       "1  5.75           0.772823   91.118421   6.250000            61.019737   \n",
       "2  6.21           0.812509   89.455782  66.666667            83.333333   \n",
       "3  6.53           0.885130   92.395437  38.022814            87.452471   \n",
       "4  6.46           0.759964   83.222591  74.418605            89.700997   \n",
       "\n",
       "   BA Against    Velocity  Ground Balls  Pitch Diversity  \n",
       "0   88.322368  100.000000     57.236842        15.460526  \n",
       "1   85.032895   97.861842     89.144737         7.894737  \n",
       "2   64.115646  100.000000     81.122449        10.884354  \n",
       "3   41.825095   99.239544     95.057034        20.152091  \n",
       "4   39.368771   98.671096     85.215947         6.976744  \n",
       "\n",
       "[5 rows x 43 columns]"
      ]
     },
     "execution_count": 15,
     "metadata": {},
     "output_type": "execute_result"
    }
   ],
   "source": [
    "df.head()"
   ]
  },
  {
   "cell_type": "code",
   "execution_count": 16,
   "metadata": {},
   "outputs": [],
   "source": [
    "# SAVES are a relief/closing pitcher metric as it is for end of games\n",
    "# My project focuses on STARTING pitchers, so saves are not relevant\n",
    "df.drop(['SV'], axis=1, inplace=True)"
   ]
  },
  {
   "cell_type": "code",
   "execution_count": 17,
   "metadata": {},
   "outputs": [],
   "source": [
    "# Rename column to just Stamina for simplicity\n",
    "df.rename({'Stamina/Consistency':'Stamina'}, axis=1, inplace= True)\n",
    "# df.to_csv('Master_df.csv')"
   ]
  },
  {
   "cell_type": "code",
   "execution_count": 18,
   "metadata": {},
   "outputs": [
    {
     "data": {
      "text/plain": [
       "1520"
      ]
     },
     "execution_count": 18,
     "metadata": {},
     "output_type": "execute_result"
    }
   ],
   "source": [
    "# 1520 unique pitchers\n",
    "len(pd.unique(df['Name']))"
   ]
  },
  {
   "cell_type": "code",
   "execution_count": 22,
   "metadata": {},
   "outputs": [
    {
     "data": {
      "text/html": [
       "<div>\n",
       "<style scoped>\n",
       "    .dataframe tbody tr th:only-of-type {\n",
       "        vertical-align: middle;\n",
       "    }\n",
       "\n",
       "    .dataframe tbody tr th {\n",
       "        vertical-align: top;\n",
       "    }\n",
       "\n",
       "    .dataframe thead th {\n",
       "        text-align: right;\n",
       "    }\n",
       "</style>\n",
       "<table border=\"1\" class=\"dataframe\">\n",
       "  <thead>\n",
       "    <tr style=\"text-align: right;\">\n",
       "      <th></th>\n",
       "      <th>Strikeouts</th>\n",
       "      <th>Control</th>\n",
       "      <th>Stamina</th>\n",
       "      <th>Velocity</th>\n",
       "      <th>Ground Balls</th>\n",
       "      <th>Pitch Diversity</th>\n",
       "      <th>performance</th>\n",
       "    </tr>\n",
       "  </thead>\n",
       "  <tbody>\n",
       "    <tr>\n",
       "      <th>0</th>\n",
       "      <td>90.789474</td>\n",
       "      <td>36.348684</td>\n",
       "      <td>97.203947</td>\n",
       "      <td>100.000000</td>\n",
       "      <td>57.236842</td>\n",
       "      <td>15.460526</td>\n",
       "      <td>397.039474</td>\n",
       "    </tr>\n",
       "    <tr>\n",
       "      <th>1</th>\n",
       "      <td>91.118421</td>\n",
       "      <td>6.250000</td>\n",
       "      <td>61.019737</td>\n",
       "      <td>97.861842</td>\n",
       "      <td>89.144737</td>\n",
       "      <td>7.894737</td>\n",
       "      <td>353.289474</td>\n",
       "    </tr>\n",
       "    <tr>\n",
       "      <th>2</th>\n",
       "      <td>89.455782</td>\n",
       "      <td>66.666667</td>\n",
       "      <td>83.333333</td>\n",
       "      <td>100.000000</td>\n",
       "      <td>81.122449</td>\n",
       "      <td>10.884354</td>\n",
       "      <td>431.462585</td>\n",
       "    </tr>\n",
       "    <tr>\n",
       "      <th>3</th>\n",
       "      <td>92.395437</td>\n",
       "      <td>38.022814</td>\n",
       "      <td>87.452471</td>\n",
       "      <td>99.239544</td>\n",
       "      <td>95.057034</td>\n",
       "      <td>20.152091</td>\n",
       "      <td>432.319392</td>\n",
       "    </tr>\n",
       "    <tr>\n",
       "      <th>4</th>\n",
       "      <td>83.222591</td>\n",
       "      <td>74.418605</td>\n",
       "      <td>89.700997</td>\n",
       "      <td>98.671096</td>\n",
       "      <td>85.215947</td>\n",
       "      <td>6.976744</td>\n",
       "      <td>438.205980</td>\n",
       "    </tr>\n",
       "    <tr>\n",
       "      <th>...</th>\n",
       "      <td>...</td>\n",
       "      <td>...</td>\n",
       "      <td>...</td>\n",
       "      <td>...</td>\n",
       "      <td>...</td>\n",
       "      <td>...</td>\n",
       "      <td>...</td>\n",
       "    </tr>\n",
       "    <tr>\n",
       "      <th>5437</th>\n",
       "      <td>70.793651</td>\n",
       "      <td>22.857143</td>\n",
       "      <td>39.523810</td>\n",
       "      <td>87.777778</td>\n",
       "      <td>72.857143</td>\n",
       "      <td>41.904762</td>\n",
       "      <td>335.714286</td>\n",
       "    </tr>\n",
       "    <tr>\n",
       "      <th>5438</th>\n",
       "      <td>67.201166</td>\n",
       "      <td>65.597668</td>\n",
       "      <td>98.250729</td>\n",
       "      <td>95.335277</td>\n",
       "      <td>57.871720</td>\n",
       "      <td>77.259475</td>\n",
       "      <td>461.516035</td>\n",
       "    </tr>\n",
       "    <tr>\n",
       "      <th>5439</th>\n",
       "      <td>62.228261</td>\n",
       "      <td>76.902174</td>\n",
       "      <td>97.146739</td>\n",
       "      <td>96.603261</td>\n",
       "      <td>57.608696</td>\n",
       "      <td>69.021739</td>\n",
       "      <td>459.510870</td>\n",
       "    </tr>\n",
       "    <tr>\n",
       "      <th>5440</th>\n",
       "      <td>19.087838</td>\n",
       "      <td>65.033784</td>\n",
       "      <td>5.236486</td>\n",
       "      <td>44.425676</td>\n",
       "      <td>45.945946</td>\n",
       "      <td>25.675676</td>\n",
       "      <td>205.405405</td>\n",
       "    </tr>\n",
       "    <tr>\n",
       "      <th>5441</th>\n",
       "      <td>13.840830</td>\n",
       "      <td>32.352941</td>\n",
       "      <td>32.006920</td>\n",
       "      <td>68.858131</td>\n",
       "      <td>98.269896</td>\n",
       "      <td>8.996540</td>\n",
       "      <td>254.325260</td>\n",
       "    </tr>\n",
       "  </tbody>\n",
       "</table>\n",
       "<p>5442 rows × 7 columns</p>\n",
       "</div>"
      ],
      "text/plain": [
       "      Strikeouts    Control    Stamina    Velocity  Ground Balls  \\\n",
       "0      90.789474  36.348684  97.203947  100.000000     57.236842   \n",
       "1      91.118421   6.250000  61.019737   97.861842     89.144737   \n",
       "2      89.455782  66.666667  83.333333  100.000000     81.122449   \n",
       "3      92.395437  38.022814  87.452471   99.239544     95.057034   \n",
       "4      83.222591  74.418605  89.700997   98.671096     85.215947   \n",
       "...          ...        ...        ...         ...           ...   \n",
       "5437   70.793651  22.857143  39.523810   87.777778     72.857143   \n",
       "5438   67.201166  65.597668  98.250729   95.335277     57.871720   \n",
       "5439   62.228261  76.902174  97.146739   96.603261     57.608696   \n",
       "5440   19.087838  65.033784   5.236486   44.425676     45.945946   \n",
       "5441   13.840830  32.352941  32.006920   68.858131     98.269896   \n",
       "\n",
       "      Pitch Diversity  performance  \n",
       "0           15.460526   397.039474  \n",
       "1            7.894737   353.289474  \n",
       "2           10.884354   431.462585  \n",
       "3           20.152091   432.319392  \n",
       "4            6.976744   438.205980  \n",
       "...               ...          ...  \n",
       "5437        41.904762   335.714286  \n",
       "5438        77.259475   461.516035  \n",
       "5439        69.021739   459.510870  \n",
       "5440        25.675676   205.405405  \n",
       "5441         8.996540   254.325260  \n",
       "\n",
       "[5442 rows x 7 columns]"
      ]
     },
     "execution_count": 22,
     "metadata": {},
     "output_type": "execute_result"
    }
   ],
   "source": [
    "# I want to calculate a cumulative sum of inherent attributes as a measure of player physical performance\n",
    "\n",
    "# Pull out just my metrics of interest\n",
    "metrics = df.loc[:,'Shannon Diversity':'Pitch Diversity']\n",
    "\n",
    "# Drop the non standardized Shannon Diversity Columns\n",
    "# Also drop the BA Against column, I feel it's not as much of an inherent attribute of a pitcher\n",
    "# I now have 6 attributes of interest\n",
    "metrics.drop(['Shannon Diversity', 'BA Against'], axis=1, inplace=True)\n",
    "\n",
    "# Get a sum of all their attributes\n",
    "metrics['performance'] = metrics.sum(axis=1)\n",
    "metrics"
   ]
  },
  {
   "cell_type": "code",
   "execution_count": 23,
   "metadata": {},
   "outputs": [],
   "source": [
    "# Copy over the performance column to the main dataframe\n",
    "df['performance'] = metrics['performance'].copy()"
   ]
  },
  {
   "cell_type": "code",
   "execution_count": 24,
   "metadata": {},
   "outputs": [],
   "source": [
    "# Save\n",
    "df.to_csv('Master_df.csv')"
   ]
  },
  {
   "cell_type": "code",
   "execution_count": 27,
   "metadata": {
    "scrolled": false
   },
   "outputs": [
    {
     "data": {
      "image/png": "[encoded data removed]",
      "text/plain": [
       "<Figure size 432x288 with 1 Axes>"
      ]
     },
     "metadata": {
      "needs_background": "light"
     },
     "output_type": "display_data"
    }
   ],
   "source": [
    "# Quick and dirty plot of physical attribute sum over time for a player\n",
    "kershaw = df[df['Name'] == 'Clayton Kershaw']\n",
    "kershaw.reset_index(drop = True, inplace = True)\n",
    "plt.plot(kershaw['Age'], kershaw['performance'])\n",
    "plt.xticks(np.arange(kershaw['Age'].min(), kershaw['Age'].max()+1,1))\n",
    "plt.xlabel('Age')\n",
    "plt.ylabel('Attribute Sum')\n",
    "plt.show()"
   ]
  },
  {
   "cell_type": "code",
   "execution_count": 28,
   "metadata": {},
   "outputs": [
    {
     "data": {
      "image/png": "[encoded data removed]",
      "text/plain": [
       "<Figure size 432x288 with 1 Axes>"
      ]
     },
     "metadata": {
      "needs_background": "light"
     },
     "output_type": "display_data"
    }
   ],
   "source": [
    "# Similar quick and dirty plot for WAR over career\n",
    "# War is an on-field performance metric for pitchers, I want to quickly see how it correlates to performance/attribute sum\n",
    "plt.plot(kershaw['Age'], kershaw['WAR'])\n",
    "plt.xticks(np.arange(kershaw['Age'].min(), kershaw['Age'].max()+1,1))\n",
    "plt.xlabel('Age')\n",
    "plt.ylabel('WAR')\n",
    "plt.show()"
   ]
  },
  {
   "cell_type": "code",
   "execution_count": 29,
   "metadata": {},
   "outputs": [
    {
     "name": "stderr",
     "output_type": "stream",
     "text": [
      "<ipython-input-29-4facbe2dd325>:2: SettingWithCopyWarning: \n",
      "A value is trying to be set on a copy of a slice from a DataFrame.\n",
      "Try using .loc[row_indexer,col_indexer] = value instead\n",
      "\n",
      "See the caveats in the documentation: https://pandas.pydata.org/pandas-docs/stable/user_guide/indexing.html#returning-a-view-versus-a-copy\n",
      "  kershaw['delta'] = kershaw['performance'].pct_change()\n"
     ]
    },
    {
     "data": {
      "text/plain": [
       "0          NaN\n",
       "1    -0.013525\n",
       "2     0.035792\n",
       "3     0.311485\n",
       "4    -0.003113\n",
       "5     0.019144\n",
       "6     0.117403\n",
       "7    -0.007701\n",
       "8    -0.021987\n",
       "9    -0.014559\n",
       "10   -0.156020\n",
       "11   -0.015872\n",
       "Name: delta, dtype: float64"
      ]
     },
     "execution_count": 29,
     "metadata": {},
     "output_type": "execute_result"
    }
   ],
   "source": [
    "# Create a new column that show the percent change of performance Y/Y\n",
    "kershaw['delta'] = kershaw['performance'].pct_change()\n",
    "kershaw['delta']"
   ]
  },
  {
   "cell_type": "markdown",
   "metadata": {},
   "source": [
    "***\n",
    "For every player, there is a physical peak. I want to be able to calculate and denote what year(s) they were at their physical peak.\n",
    "\n",
    "I define physical peak as the age at which they reach their maximum `performance` (ie. max of physical attribute sums). As players age, their traits change. Some will increase and others will decrease to compensate. However traits such as stamina, velocity and correspondingly, strikeouts, will decrease at a faster rate than other traits such as control and diversity will increase to compensate. \n",
    "\n",
    "Therefore, there will still likely be a net percentage decrease in the physical attribute sum denoted by `performance` that can be detected as the decline from their peak.\n",
    "\n",
    "To accomodate for season/season fluctuations, I will define the end of their peak as a 10% decrease in `performance` relative to the previous year. Any seasons between their peak and their decline will still be denoted as years that are part of their physical peak. \n",
    "\n",
    "A limitation to this is that players who experience very slow but steady declines from their peak (ex. consistent 5% Y/Y decline) will not be detected. This is something I will definitely look into improving and finding a solution for. \n",
    "\n",
    "For now, I know that anecdotally, atheletes generally do not experience slow and steady declines, but a player's decline is usually sharp and sudden."
   ]
  },
  {
   "cell_type": "code",
   "execution_count": 32,
   "metadata": {},
   "outputs": [
    {
     "data": {
      "text/plain": [
       "[26, 27, 28, 29]"
      ]
     },
     "execution_count": 32,
     "metadata": {},
     "output_type": "execute_result"
    }
   ],
   "source": [
    "# Create an empty list to store their prime years\n",
    "prime = []\n",
    "# Iterate through all entries for a player\n",
    "for i in range(len(kershaw)):\n",
    "    # Start appending years to the list of prime years when their performance equals their career max\n",
    "    if kershaw.loc[i, 'performance'] == kershaw['performance'].max():\n",
    "        prime.append(kershaw.loc[i, 'Age'])\n",
    "        # For any year after that, if the decline in performance is not a greater than -10% decline then append that year\n",
    "        for j in range(1, len(kershaw) - i):\n",
    "            if kershaw.loc[i+j, 'delta'] > -0.1:\n",
    "                prime.append(kershaw.loc[i+j, 'Age'])\n",
    "            # If there is a greater than 10% decline in performance, terminate the loop\n",
    "            elif kershaw.loc[i+j, 'delta'] <= -0.1:\n",
    "                break\n",
    "\n",
    "prime"
   ]
  },
  {
   "cell_type": "code",
   "execution_count": 33,
   "metadata": {},
   "outputs": [],
   "source": [
    "# Transform the above code to a function so that it can be scaled for any player of interest\n",
    "def prime(name):\n",
    "    kershaw = df[df['Name'] == name]\n",
    "    kershaw.reset_index(drop = True, inplace = True)\n",
    "    kershaw['delta'] = kershaw['performance'].pct_change()\n",
    "\n",
    "    years = []\n",
    "    for i in range(len(kershaw)):\n",
    "        if kershaw.loc[i, 'performance'] == kershaw['performance'].max():\n",
    "            years.append(kershaw.loc[i, 'Age'])\n",
    "            for j in range(1, len(kershaw) - i):\n",
    "                if kershaw.loc[i+j, 'delta'] > -0.1:\n",
    "                    years.append(kershaw.loc[i+j, 'Age'])\n",
    "                elif kershaw.loc[i+j, 'delta'] <= -0.1:\n",
    "                    break\n",
    "    # Add a string so that it returns more than just a list but rather, a coherent sentence\n",
    "    s = 'Prime Years: '\n",
    "    # Add each year to the string separated by a comma and space\n",
    "    for yr in years:\n",
    "        s = s + str(yr) + ', '\n",
    "    # Remove the last comma and space\n",
    "    s = s.rstrip(', ')\n",
    "    return s"
   ]
  },
  {
   "cell_type": "code",
   "execution_count": 34,
   "metadata": {},
   "outputs": [
    {
     "name": "stderr",
     "output_type": "stream",
     "text": [
      "<ipython-input-33-81a1834515b5>:5: SettingWithCopyWarning: \n",
      "A value is trying to be set on a copy of a slice from a DataFrame.\n",
      "Try using .loc[row_indexer,col_indexer] = value instead\n",
      "\n",
      "See the caveats in the documentation: https://pandas.pydata.org/pandas-docs/stable/user_guide/indexing.html#returning-a-view-versus-a-copy\n",
      "  kershaw['delta'] = kershaw['performance'].pct_change()\n"
     ]
    },
    {
     "data": {
      "text/plain": [
       "'Prime Years: 28, 29, 30, 31'"
      ]
     },
     "execution_count": 34,
     "metadata": {},
     "output_type": "execute_result"
    }
   ],
   "source": [
    "# Test with another player\n",
    "prime('Zack Greinke')"
   ]
  },
  {
   "cell_type": "markdown",
   "metadata": {},
   "source": [
    "Great! This function works and can be deployed later in my final product!\n",
    "\n",
    "***"
   ]
  }
 ],
 "metadata": {
  "kernelspec": {
   "display_name": "Python 3",
   "language": "python",
   "name": "python3"
  },
  "language_info": {
   "codemirror_mode": {
    "name": "ipython",
    "version": 3
   },
   "file_extension": ".py",
   "mimetype": "text/x-python",
   "name": "python",
   "nbconvert_exporter": "python",
   "pygments_lexer": "ipython3",
   "version": "3.8.3"
  }
 },
 "nbformat": 4,
 "nbformat_minor": 2
}
